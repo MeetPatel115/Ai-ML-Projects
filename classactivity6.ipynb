{
 "cells": [
  {
   "cell_type": "code",
   "execution_count": 15,
   "id": "87a74ea6",
   "metadata": {},
   "outputs": [
    {
     "name": "stdout",
     "output_type": "stream",
     "text": [
      "Is name =='Meet'? I predict it is True\n",
      "False\n",
      "Is name =='Rachit'? I predict it is True\n",
      "True\n",
      "Is name =='Meet'? I predict it is True\n",
      "False\n",
      "Is name =='Rachit'? I predict it is True\n",
      "True\n",
      "Is name =='Meet'? I predict it is True\n",
      "False\n",
      "Is name =='Rachit'? I predict it is True\n",
      "True\n",
      "Is name =='Meet'? I predict it is True\n",
      "True\n",
      "Is name =='Rachit'? I predict it is True\n",
      "False\n",
      "Is name =='Meet'? I predict it is True\n",
      "False\n",
      "Is name =='Rachit'? I predict it is True\n",
      "True\n"
     ]
    }
   ],
   "source": [
    "#5.1\n",
    "list=['Meet','Rachit']\n",
    "for i in range(0,5):\n",
    "    x=random.choice(list)\n",
    "    print(\"Is name =='Meet'? I predict it is True\")\n",
    "    print('Meet'==x)\n",
    "    print(\"Is name =='Rachit'? I predict it is True\")\n",
    "    print('Rachit'==x)\n",
    "        "
   ]
  },
  {
   "cell_type": "code",
   "execution_count": 21,
   "id": "dd9d7ece",
   "metadata": {},
   "outputs": [
    {
     "name": "stdout",
     "output_type": "stream",
     "text": [
      "minicopper\n",
      "Is this minicopper is own by bmw company\n",
      "True\n"
     ]
    }
   ],
   "source": [
    "#5.2\n",
    "cars=input()\n",
    "if cars == 'minicopper':\n",
    "    print(f\"Is this {cars} is own by bmw company\")\n",
    "    print(cars=='minicopper')\n",
    "else:\n",
    "    print(f\"Is this {cars} is own by bmw company\")\n",
    "    print(cars=='minicopper')"
   ]
  },
  {
   "cell_type": "code",
   "execution_count": 24,
   "id": "765186ff",
   "metadata": {},
   "outputs": [
    {
     "name": "stdout",
     "output_type": "stream",
     "text": [
      "Company name is own by the Bmw: charger\n",
      "Is this charger is own by bmw company\n",
      "False\n"
     ]
    }
   ],
   "source": [
    "cars=input(\"Company name is own by the Bmw: \")\n",
    "cars=cars.lower()\n",
    "if cars == 'minicopper':\n",
    "    print(f\"Is this {cars} is own by bmw company\")\n",
    "    print(cars=='minicopper')\n",
    "else:\n",
    "    print(f\"Is this {cars} is own by bmw company\")\n",
    "    print(cars=='minicopper')"
   ]
  },
  {
   "cell_type": "code",
   "execution_count": null,
   "id": "32079a4b",
   "metadata": {},
   "outputs": [],
   "source": []
  },
  {
   "cell_type": "code",
   "execution_count": 31,
   "id": "af8d9cc5",
   "metadata": {},
   "outputs": [
    {
     "name": "stdout",
     "output_type": "stream",
     "text": [
      "65\n",
      "Is student is Pass?  True\n"
     ]
    }
   ],
   "source": [
    "x=int(input())\n",
    "if x==50:\n",
    "    print('Ask the professor to check the ans')\n",
    "    \n",
    "elif x>=50:\n",
    "    print('Is student is Pass? ',x>=50)\n",
    "    if x==100:\n",
    "        print('is he get the MArks: ',x==100)\n",
    "    elif x<=99 & x>=80:\n",
    "        print('get the A+')\n",
    "else:\n",
    "    print('Is the student is pass? ', x>=50)"
   ]
  },
  {
   "cell_type": "code",
   "execution_count": 32,
   "id": "d795ee24",
   "metadata": {},
   "outputs": [
    {
     "name": "stdout",
     "output_type": "stream",
     "text": [
      "Marks: 65\n",
      "Pass\n"
     ]
    }
   ],
   "source": [
    "x=int(input('Marks: '))\n",
    "if x>=50 or x<=100:\n",
    "    print('Pass')\n",
    "elif x<=50 and x>=40:\n",
    "    print(\"review your paper\")"
   ]
  },
  {
   "cell_type": "code",
   "execution_count": 36,
   "id": "92985378",
   "metadata": {},
   "outputs": [
    {
     "name": "stdout",
     "output_type": "stream",
     "text": [
      "customer choiceAudi\n",
      "the given car is the store\n"
     ]
    }
   ],
   "source": [
    "list1=['bmw','audi','tata','tesla']\n",
    "x=input('customer choice').lower()\n",
    "if x in list1:\n",
    "    print('the given car is the store')\n",
    "else:\n",
    "    print(\"the car is not in the Store \")"
   ]
  },
  {
   "cell_type": "code",
   "execution_count": 40,
   "id": "ae694d55",
   "metadata": {},
   "outputs": [
    {
     "name": "stdout",
     "output_type": "stream",
     "text": [
      "The player just rewarded 5 points\n",
      "Total points: 5\n"
     ]
    }
   ],
   "source": [
    "# 5.3\n",
    "color=['red','green','yellow']\n",
    "\n",
    "alien_color=random.choice(color)\n",
    "p_point=0\n",
    "if alien_color=='green':\n",
    "    p_point+=5\n",
    "    print(\"The player just rewarded 5 points\")\n",
    "print(f'Total points: {p_point}')"
   ]
  },
  {
   "cell_type": "code",
   "execution_count": 43,
   "id": "fb0d1ae5",
   "metadata": {},
   "outputs": [
    {
     "name": "stdout",
     "output_type": "stream",
     "text": [
      "The player just rewarded 5 points\n",
      "Total points: 5\n"
     ]
    }
   ],
   "source": [
    "#5.4\n",
    "alien_color=random.choice(color)\n",
    "if alien_color=='green':\n",
    "    p_point+=5\n",
    "    print(\"The player just rewarded 5 points\")\n",
    "else:\n",
    "    p_point+=10\n",
    "    print(\"The Player earn the 10 points\")\n",
    "print(f'Total points: {p_point}')"
   ]
  },
  {
   "cell_type": "code",
   "execution_count": 45,
   "id": "c3eea41b",
   "metadata": {},
   "outputs": [
    {
     "name": "stdout",
     "output_type": "stream",
     "text": [
      "The Player earn the 15 points\n"
     ]
    }
   ],
   "source": [
    "#5.5\n",
    "alien_color=random.choice(color)\n",
    "if alien_color=='green':\n",
    "    p_point+=5\n",
    "    print(\"The player just rewarded 5 points\")\n",
    "elif alien_color=='yellow':\n",
    "    p_point+=10\n",
    "    print(\"The Player earn the 10 points\")\n",
    "elif alien_color=='red':\n",
    "    p_point+=15\n",
    "    print(\"The Player earn the 15 points\")"
   ]
  },
  {
   "cell_type": "code",
   "execution_count": 50,
   "id": "2aa6b706",
   "metadata": {},
   "outputs": [
    {
     "name": "stdout",
     "output_type": "stream",
     "text": [
      "Enter the age: 24\n",
      "The person is adult\n"
     ]
    }
   ],
   "source": [
    "#5.6\n",
    "age=int(input(\"Enter the age: \"))\n",
    "if age<2:\n",
    "    print(\"The person is baby\")\n",
    "elif age>=2 and age<4:\n",
    "    print(\"The person is todller\")\n",
    "elif age>=4 and age<13:\n",
    "    print(\"The person is kid\")\n",
    "elif age>=13 and age<20:\n",
    "    print(\"The person is tenager\")\n",
    "elif age>=20 and age<65:\n",
    "    print(\"The person is adult\")\n",
    "else:\n",
    "    print(\"The person is old\")"
   ]
  },
  {
   "cell_type": "code",
   "execution_count": 51,
   "id": "e7bab57a",
   "metadata": {},
   "outputs": [
    {
     "name": "stdout",
     "output_type": "stream",
     "text": [
      "You rally like apple\n",
      "You rally like grapes\n",
      "You rally like guava\n"
     ]
    }
   ],
   "source": [
    "fruits=['apple','banana','orange','grapes','guava']\n",
    "fav_fruits=['apple','grapes','guava']\n",
    "for i in fruits:\n",
    "    if i in fav_fruits:\n",
    "        print(f\"You rally like {i}\")"
   ]
  },
  {
   "cell_type": "code",
   "execution_count": 61,
   "id": "ac6a7c5d",
   "metadata": {},
   "outputs": [
    {
     "name": "stdout",
     "output_type": "stream",
     "text": [
      "Hello admin, do ypu want to see status\n",
      "Hello customer, Good to see you again\n",
      "Hello emlopye, Good to see you again\n",
      "Hello worker, Good to see you again\n",
      "Hello partner, Good to see you again\n"
     ]
    }
   ],
   "source": [
    "#5.8\n",
    "user=['admin','customer','emlopye','worker','partner']\n",
    "for i in user:\n",
    "    if i=='admin':\n",
    "        print(\"Hello admin, do ypu want to see status\")\n",
    "    else:\n",
    "        print(f\"Hello {i}, Good to see you again\")"
   ]
  },
  {
   "cell_type": "code",
   "execution_count": 57,
   "id": "1e210d53",
   "metadata": {},
   "outputs": [
    {
     "name": "stdout",
     "output_type": "stream",
     "text": [
      "there is no user in the list\n"
     ]
    }
   ],
   "source": [
    "#5.9\n",
    "user.clear()\n",
    "if len(user)==0:\n",
    "    print(\"there is no user in the list\")"
   ]
  },
  {
   "cell_type": "code",
   "execution_count": 62,
   "id": "d1249268",
   "metadata": {},
   "outputs": [
    {
     "name": "stdout",
     "output_type": "stream",
     "text": [
      "The new user driver is been added\n",
      "customer user is already in the current user\n",
      "The new user instructor is been added\n",
      "The new user manager is been added\n",
      "worker user is already in the current user\n"
     ]
    }
   ],
   "source": [
    "#5.10\n",
    "user=['admin','customer','emlopye','worker','partner']\n",
    "new_user=['driver','customer','instructor','manager','worker']\n",
    "for i in new_user:\n",
    "    if i not in user:\n",
    "        user.append(i)\n",
    "        print(f\"The new user {i} is been added\")\n",
    "    else:\n",
    "        print(f\"{i} user is already in the current user\")"
   ]
  },
  {
   "cell_type": "code",
   "execution_count": 68,
   "id": "b8b0c3f8",
   "metadata": {},
   "outputs": [
    {
     "name": "stdout",
     "output_type": "stream",
     "text": [
      "1st\n",
      "2nd\n",
      "3rd\n",
      "4th\n",
      "5th\n",
      "6th\n",
      "7th\n",
      "8th\n",
      "9th\n"
     ]
    }
   ],
   "source": [
    "#5.11\n",
    "number=range(1,9+1)\n",
    "for i in number:\n",
    "    if i==1:\n",
    "        print(f'{str(i)}st')\n",
    "    elif i==2:\n",
    "        print(f'{str(i)}nd')\n",
    "    elif i==3:\n",
    "        print(f'{str(i)}rd')\n",
    "    else:\n",
    "        print(f'{str(i)}th')"
   ]
  },
  {
   "cell_type": "code",
   "execution_count": null,
   "id": "a0cc22bf",
   "metadata": {},
   "outputs": [],
   "source": []
  }
 ],
 "metadata": {
  "kernelspec": {
   "display_name": "Python 3 (ipykernel)",
   "language": "python",
   "name": "python3"
  },
  "language_info": {
   "codemirror_mode": {
    "name": "ipython",
    "version": 3
   },
   "file_extension": ".py",
   "mimetype": "text/x-python",
   "name": "python",
   "nbconvert_exporter": "python",
   "pygments_lexer": "ipython3",
   "version": "3.8.18"
  }
 },
 "nbformat": 4,
 "nbformat_minor": 5
}
