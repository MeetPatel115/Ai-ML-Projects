{
 "cells": [
  {
   "cell_type": "code",
   "execution_count": 3,
   "id": "7b2088d8",
   "metadata": {},
   "outputs": [
    {
     "name": "stdout",
     "output_type": "stream",
     "text": [
      "Seven_cheese is my one of the favourite Pizza\n",
      "Margarita is my one of the favourite Pizza\n",
      "Italian is my one of the favourite Pizza\n",
      "Pizza are my favourite food. \n",
      "I am able to eat the pizza whole year without any hesitation.\n",
      "I love the Pizza most\n"
     ]
    }
   ],
   "source": [
    "list_pizza=['Seven_cheese','Margarita','Italian']\n",
    "\n",
    "for pizza in list_pizza:\n",
    "    print(f\"{pizza} is my one of the favourite Pizza\")\n",
    "print(\"Pizza are my favourite food. \\nI am able to eat the pizza whole year without any hesitation.\\nI love the Pizza most\")"
   ]
  },
  {
   "cell_type": "code",
   "execution_count": 15,
   "id": "06cc966b",
   "metadata": {},
   "outputs": [
    {
     "name": "stdout",
     "output_type": "stream",
     "text": [
      "lion\n",
      "tiger\n",
      "cheeta\n",
      "lion, he is the king of animal\n",
      "tiger, it is the meat eating animal\n",
      "cheeta, it is the fastest animal in land\n",
      " The given animal are the meat eating animal and it does not use for the pet\n"
     ]
    }
   ],
   "source": [
    "list_animal={\"lion\": \"he is the king of animal\",\n",
    "             \"tiger\": 'it is the meat eating animal',\n",
    "             \"cheeta\": 'it is the fastest animal in land'}\n",
    "for animal in list_animal:\n",
    "    print(animal)\n",
    "for animal,sent in list_animal.items():\n",
    "    print(f'{ animal}, {sent}')\n",
    "print(\" The given animal are the meat eating animal and it does not use for the pet\")"
   ]
  },
  {
   "cell_type": "code",
   "execution_count": 7,
   "id": "d33121b3",
   "metadata": {},
   "outputs": [
    {
     "name": "stdout",
     "output_type": "stream",
     "text": [
      "1\n",
      "2\n",
      "3\n",
      "4\n",
      "5\n",
      "6\n",
      "7\n",
      "8\n",
      "9\n",
      "10\n",
      "11\n",
      "12\n",
      "13\n",
      "14\n",
      "15\n",
      "16\n",
      "17\n",
      "18\n",
      "19\n",
      "20\n"
     ]
    }
   ],
   "source": [
    "for num in range(1,21):\n",
    "    print(num)"
   ]
  },
  {
   "cell_type": "code",
   "execution_count": 35,
   "id": "46d2f999",
   "metadata": {},
   "outputs": [],
   "source": [
    "million=[]\n",
    "for i in range(0,100000):\n",
    "    million.append(i)\n"
   ]
  },
  {
   "cell_type": "code",
   "execution_count": 37,
   "id": "7dbb97c4",
   "metadata": {},
   "outputs": [
    {
     "name": "stdout",
     "output_type": "stream",
     "text": [
      "0\n",
      "99999\n"
     ]
    }
   ],
   "source": [
    "print(min(million))\n",
    "print(max(million))"
   ]
  },
  {
   "cell_type": "code",
   "execution_count": 16,
   "id": "7e831e6c",
   "metadata": {},
   "outputs": [
    {
     "name": "stdout",
     "output_type": "stream",
     "text": [
      "4999950000\n"
     ]
    }
   ],
   "source": [
    "sum=0\n",
    "for i in range(0,100000):\n",
    "    sum=i+sum\n",
    "print(sum)"
   ]
  },
  {
   "cell_type": "code",
   "execution_count": 18,
   "id": "c6d58a96",
   "metadata": {},
   "outputs": [
    {
     "name": "stdout",
     "output_type": "stream",
     "text": [
      "1\n",
      "3\n",
      "5\n",
      "7\n",
      "9\n",
      "11\n",
      "13\n",
      "15\n",
      "17\n",
      "19\n"
     ]
    }
   ],
   "source": [
    "for i in range(0,21):\n",
    "    if i%2!=0:\n",
    "        print(i)"
   ]
  },
  {
   "cell_type": "code",
   "execution_count": 20,
   "id": "eb98140b",
   "metadata": {},
   "outputs": [
    {
     "name": "stdout",
     "output_type": "stream",
     "text": [
      "samosa\n",
      "bhel\n",
      "pulav\n",
      "pav bhaji\n",
      "sandwich\n"
     ]
    },
    {
     "ename": "TypeError",
     "evalue": "'tuple' object does not support item assignment",
     "output_type": "error",
     "traceback": [
      "\u001b[1;31m---------------------------------------------------------------------------\u001b[0m",
      "\u001b[1;31mTypeError\u001b[0m                                 Traceback (most recent call last)",
      "Cell \u001b[1;32mIn[20], line 4\u001b[0m\n\u001b[0;32m      2\u001b[0m \u001b[38;5;28;01mfor\u001b[39;00m i \u001b[38;5;129;01min\u001b[39;00m tuple_food:\n\u001b[0;32m      3\u001b[0m     \u001b[38;5;28mprint\u001b[39m(i)\n\u001b[1;32m----> 4\u001b[0m tuple_food[\u001b[38;5;241m1\u001b[39m]\u001b[38;5;241m=\u001b[39m\u001b[38;5;124m'\u001b[39m\u001b[38;5;124mpani puri\u001b[39m\u001b[38;5;124m'\u001b[39m\n",
      "\u001b[1;31mTypeError\u001b[0m: 'tuple' object does not support item assignment"
     ]
    }
   ],
   "source": [
    "tuple_food=('samosa','bhel','pulav','pav bhaji','sandwich')\n",
    "for i in tuple_food:\n",
    "    print(i)\n",
    "tuple_food[1]='pani puri'"
   ]
  },
  {
   "cell_type": "code",
   "execution_count": 45,
   "id": "3ddd47d7",
   "metadata": {},
   "outputs": [
    {
     "name": "stdout",
     "output_type": "stream",
     "text": [
      "samosa\n",
      "bhel\n",
      "pulav\n",
      "pav bhaji\n",
      "pasta\n"
     ]
    }
   ],
   "source": [
    "list_food=[]\n",
    "for i in tuple_food:\n",
    "    list_food.append(i)\n",
    "new_food=['salad','pasta']\n",
    "for i in new_food:\n",
    "    list_food.pop()\n",
    "    list_food.append(i)\n",
    "    \n",
    "for i in list_food:\n",
    "    print(i)"
   ]
  },
  {
   "cell_type": "code",
   "execution_count": 46,
   "id": "0820ffdc",
   "metadata": {},
   "outputs": [
    {
     "name": "stdout",
     "output_type": "stream",
     "text": [
      "The Size of the shirt is M, and print the tsirt with Swagger\n"
     ]
    }
   ],
   "source": [
    "def make_shirt(size,text):\n",
    "    print(f'The Size of the shirt is {size}, and print the tsirt with {text}')\n",
    "\n",
    "make_shirt(\"M\",\"Swagger\")"
   ]
  },
  {
   "cell_type": "code",
   "execution_count": 58,
   "id": "bc3cf147",
   "metadata": {},
   "outputs": [
    {
     "name": "stdout",
     "output_type": "stream",
     "text": [
      "The Size of the shirt is M, and print the tsirt with Swagger\n",
      "None\n"
     ]
    }
   ],
   "source": [
    "print(make_shirt(\"M\",\"Swagger\"))"
   ]
  },
  {
   "cell_type": "code",
   "execution_count": 56,
   "id": "7cdd0076",
   "metadata": {},
   "outputs": [
    {
     "name": "stdout",
     "output_type": "stream",
     "text": [
      "Size of the tshirt L, and print on the tshirt I love python.\n",
      "Size of the tshirt S, and print on the tshirt i love java.\n"
     ]
    }
   ],
   "source": [
    "def describe_person(size=\"L\", text=\"I love python\"):\n",
    "    print(f\"Size of the tshirt {size}, and print on the tshirt {text}.\")\n",
    "\n",
    "# Calling the function with all arguments\n",
    "describe_person()\n",
    "\n",
    "# Calling the function with only required arguments, using default values for the others\n",
    "describe_person(\"S\", \"i love java\")  # Output: Bob is 25 years old, lives in Unknown, and is Unknown.\n"
   ]
  },
  {
   "cell_type": "code",
   "execution_count": 60,
   "id": "7d14a323",
   "metadata": {},
   "outputs": [
    {
     "name": "stdout",
     "output_type": "stream",
     "text": [
      " Ahemdabad is in the India country\n",
      " Mumbai is in the India country\n",
      " toronto is in the Canada country\n"
     ]
    }
   ],
   "source": [
    "def describe_city(city,country=\"India\"):\n",
    "    print(f\" {city} is in the {country} country\")\n",
    "describe_city('Ahemdabad')\n",
    "describe_city('Mumbai')\n",
    "describe_city('toronto','Canada')"
   ]
  },
  {
   "cell_type": "code",
   "execution_count": 1,
   "id": "588a4ebf",
   "metadata": {},
   "outputs": [],
   "source": [
    "def country_city(city,country):\n",
    "    text= city+ \"|\" +country\n",
    "    return text"
   ]
  },
  {
   "cell_type": "code",
   "execution_count": 2,
   "id": "7665a702",
   "metadata": {},
   "outputs": [
    {
     "name": "stdout",
     "output_type": "stream",
     "text": [
      "Ahemdabad|India\n"
     ]
    }
   ],
   "source": [
    "a=country_city('Ahemdabad','India')\n",
    "print(a)"
   ]
  },
  {
   "cell_type": "code",
   "execution_count": null,
   "id": "18094a6b",
   "metadata": {},
   "outputs": [],
   "source": []
  }
 ],
 "metadata": {
  "kernelspec": {
   "display_name": "Python 3 (ipykernel)",
   "language": "python",
   "name": "python3"
  },
  "language_info": {
   "codemirror_mode": {
    "name": "ipython",
    "version": 3
   },
   "file_extension": ".py",
   "mimetype": "text/x-python",
   "name": "python",
   "nbconvert_exporter": "python",
   "pygments_lexer": "ipython3",
   "version": "3.8.18"
  }
 },
 "nbformat": 4,
 "nbformat_minor": 5
}
