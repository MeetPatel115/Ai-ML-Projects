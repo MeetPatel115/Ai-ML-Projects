{
 "cells": [
  {
   "cell_type": "markdown",
   "id": "acf1e33a",
   "metadata": {},
   "source": [
    "# In Class Activity - Group 4\n",
    "Members: \n",
    "Simon Shrestha (C0913111), Ingrid Guevara (C0919202), Meet patel (C0910378), Tanmay Sharma(C0912911), Aliyu Marafa(C0902760)"
   ]
  },
  {
   "cell_type": "markdown",
   "id": "6707de07",
   "metadata": {},
   "source": [
    "### Importing the libraries "
   ]
  },
  {
   "cell_type": "code",
   "execution_count": 1,
   "id": "b2a7db9c",
   "metadata": {},
   "outputs": [],
   "source": [
    "import pandas as pd \n",
    "import numpy as np\n",
    "import seaborn as sns\n",
    "import matplotlib.pyplot as plt\n",
    "from sklearn.model_selection import train_test_split\n",
    "from sklearn.ensemble import RandomForestClassifier\n",
    "from sklearn.metrics import accuracy_score, classification_report, confusion_matrix\n",
    "from sklearn.linear_model import LogisticRegression"
   ]
  },
  {
   "cell_type": "markdown",
   "id": "b6d7d153",
   "metadata": {},
   "source": [
    "## Data Extraction"
   ]
  },
  {
   "cell_type": "code",
   "execution_count": 2,
   "id": "a0a72708",
   "metadata": {},
   "outputs": [],
   "source": [
    "#Import Dataset\n",
    "data=pd.read_csv(\"data.csv\")"
   ]
  },
  {
   "cell_type": "code",
   "execution_count": 3,
   "id": "9e3cbfd8",
   "metadata": {},
   "outputs": [
    {
     "data": {
      "text/html": [
       "<div>\n",
       "<style scoped>\n",
       "    .dataframe tbody tr th:only-of-type {\n",
       "        vertical-align: middle;\n",
       "    }\n",
       "\n",
       "    .dataframe tbody tr th {\n",
       "        vertical-align: top;\n",
       "    }\n",
       "\n",
       "    .dataframe thead th {\n",
       "        text-align: right;\n",
       "    }\n",
       "</style>\n",
       "<table border=\"1\" class=\"dataframe\">\n",
       "  <thead>\n",
       "    <tr style=\"text-align: right;\">\n",
       "      <th></th>\n",
       "      <th>symbol</th>\n",
       "      <th>exchange</th>\n",
       "      <th>date</th>\n",
       "      <th>adjusted close</th>\n",
       "      <th>option symbol</th>\n",
       "      <th>expiration</th>\n",
       "      <th>strike</th>\n",
       "      <th>call/put</th>\n",
       "      <th>style</th>\n",
       "      <th>ask</th>\n",
       "      <th>...</th>\n",
       "      <th>iv</th>\n",
       "      <th>volume</th>\n",
       "      <th>open interest</th>\n",
       "      <th>stock price for iv</th>\n",
       "      <th>*</th>\n",
       "      <th>delta</th>\n",
       "      <th>vega</th>\n",
       "      <th>gamma</th>\n",
       "      <th>theta</th>\n",
       "      <th>rho</th>\n",
       "    </tr>\n",
       "  </thead>\n",
       "  <tbody>\n",
       "    <tr>\n",
       "      <th>0</th>\n",
       "      <td>SPY</td>\n",
       "      <td>NYSEArca</td>\n",
       "      <td>07/30/2021</td>\n",
       "      <td>438.51</td>\n",
       "      <td>SPY   210730C00215000</td>\n",
       "      <td>07/30/2021</td>\n",
       "      <td>215.0</td>\n",
       "      <td>C</td>\n",
       "      <td>A</td>\n",
       "      <td>224.56</td>\n",
       "      <td>...</td>\n",
       "      <td>-1.0</td>\n",
       "      <td>0</td>\n",
       "      <td>0</td>\n",
       "      <td>438.97</td>\n",
       "      <td>NaN</td>\n",
       "      <td>0.0</td>\n",
       "      <td>0.0</td>\n",
       "      <td>0.0</td>\n",
       "      <td>0.0</td>\n",
       "      <td>0.0</td>\n",
       "    </tr>\n",
       "    <tr>\n",
       "      <th>1</th>\n",
       "      <td>SPY</td>\n",
       "      <td>NYSEArca</td>\n",
       "      <td>07/30/2021</td>\n",
       "      <td>438.51</td>\n",
       "      <td>SPY   210730P00215000</td>\n",
       "      <td>07/30/2021</td>\n",
       "      <td>215.0</td>\n",
       "      <td>P</td>\n",
       "      <td>A</td>\n",
       "      <td>0.01</td>\n",
       "      <td>...</td>\n",
       "      <td>-1.0</td>\n",
       "      <td>0</td>\n",
       "      <td>1401</td>\n",
       "      <td>438.97</td>\n",
       "      <td>NaN</td>\n",
       "      <td>0.0</td>\n",
       "      <td>0.0</td>\n",
       "      <td>0.0</td>\n",
       "      <td>0.0</td>\n",
       "      <td>0.0</td>\n",
       "    </tr>\n",
       "    <tr>\n",
       "      <th>2</th>\n",
       "      <td>SPY</td>\n",
       "      <td>NYSEArca</td>\n",
       "      <td>07/30/2021</td>\n",
       "      <td>438.51</td>\n",
       "      <td>SPY   210730C00220000</td>\n",
       "      <td>07/30/2021</td>\n",
       "      <td>220.0</td>\n",
       "      <td>C</td>\n",
       "      <td>A</td>\n",
       "      <td>219.56</td>\n",
       "      <td>...</td>\n",
       "      <td>-1.0</td>\n",
       "      <td>0</td>\n",
       "      <td>1</td>\n",
       "      <td>438.97</td>\n",
       "      <td>NaN</td>\n",
       "      <td>0.0</td>\n",
       "      <td>0.0</td>\n",
       "      <td>0.0</td>\n",
       "      <td>0.0</td>\n",
       "      <td>0.0</td>\n",
       "    </tr>\n",
       "    <tr>\n",
       "      <th>3</th>\n",
       "      <td>SPY</td>\n",
       "      <td>NYSEArca</td>\n",
       "      <td>07/30/2021</td>\n",
       "      <td>438.51</td>\n",
       "      <td>SPY   210730P00220000</td>\n",
       "      <td>07/30/2021</td>\n",
       "      <td>220.0</td>\n",
       "      <td>P</td>\n",
       "      <td>A</td>\n",
       "      <td>0.01</td>\n",
       "      <td>...</td>\n",
       "      <td>-1.0</td>\n",
       "      <td>50</td>\n",
       "      <td>328</td>\n",
       "      <td>438.97</td>\n",
       "      <td>NaN</td>\n",
       "      <td>0.0</td>\n",
       "      <td>0.0</td>\n",
       "      <td>0.0</td>\n",
       "      <td>0.0</td>\n",
       "      <td>0.0</td>\n",
       "    </tr>\n",
       "    <tr>\n",
       "      <th>4</th>\n",
       "      <td>SPY</td>\n",
       "      <td>NYSEArca</td>\n",
       "      <td>07/30/2021</td>\n",
       "      <td>438.51</td>\n",
       "      <td>SPY   210730C00225000</td>\n",
       "      <td>07/30/2021</td>\n",
       "      <td>225.0</td>\n",
       "      <td>C</td>\n",
       "      <td>A</td>\n",
       "      <td>214.56</td>\n",
       "      <td>...</td>\n",
       "      <td>-1.0</td>\n",
       "      <td>0</td>\n",
       "      <td>0</td>\n",
       "      <td>438.97</td>\n",
       "      <td>NaN</td>\n",
       "      <td>0.0</td>\n",
       "      <td>0.0</td>\n",
       "      <td>0.0</td>\n",
       "      <td>0.0</td>\n",
       "      <td>0.0</td>\n",
       "    </tr>\n",
       "  </tbody>\n",
       "</table>\n",
       "<p>5 rows × 22 columns</p>\n",
       "</div>"
      ],
      "text/plain": [
       "  symbol  exchange        date  adjusted close          option symbol  \\\n",
       "0    SPY  NYSEArca  07/30/2021          438.51  SPY   210730C00215000   \n",
       "1    SPY  NYSEArca  07/30/2021          438.51  SPY   210730P00215000   \n",
       "2    SPY  NYSEArca  07/30/2021          438.51  SPY   210730C00220000   \n",
       "3    SPY  NYSEArca  07/30/2021          438.51  SPY   210730P00220000   \n",
       "4    SPY  NYSEArca  07/30/2021          438.51  SPY   210730C00225000   \n",
       "\n",
       "   expiration  strike call/put style     ask  ...   iv  volume  open interest  \\\n",
       "0  07/30/2021   215.0        C     A  224.56  ... -1.0       0              0   \n",
       "1  07/30/2021   215.0        P     A    0.01  ... -1.0       0           1401   \n",
       "2  07/30/2021   220.0        C     A  219.56  ... -1.0       0              1   \n",
       "3  07/30/2021   220.0        P     A    0.01  ... -1.0      50            328   \n",
       "4  07/30/2021   225.0        C     A  214.56  ... -1.0       0              0   \n",
       "\n",
       "   stock price for iv    *  delta vega  gamma  theta  rho  \n",
       "0              438.97  NaN    0.0  0.0    0.0    0.0  0.0  \n",
       "1              438.97  NaN    0.0  0.0    0.0    0.0  0.0  \n",
       "2              438.97  NaN    0.0  0.0    0.0    0.0  0.0  \n",
       "3              438.97  NaN    0.0  0.0    0.0    0.0  0.0  \n",
       "4              438.97  NaN    0.0  0.0    0.0    0.0  0.0  \n",
       "\n",
       "[5 rows x 22 columns]"
      ]
     },
     "execution_count": 3,
     "metadata": {},
     "output_type": "execute_result"
    }
   ],
   "source": [
    "#Show Dataset\n",
    "data.head()"
   ]
  },
  {
   "cell_type": "markdown",
   "id": "99299fae",
   "metadata": {},
   "source": [
    "## Data Validation and Cleaning"
   ]
  },
  {
   "cell_type": "code",
   "execution_count": 4,
   "id": "abf93176",
   "metadata": {},
   "outputs": [
    {
     "name": "stdout",
     "output_type": "stream",
     "text": [
      "<class 'pandas.core.frame.DataFrame'>\n",
      "RangeIndex: 221046 entries, 0 to 221045\n",
      "Data columns (total 22 columns):\n",
      " #   Column              Non-Null Count   Dtype  \n",
      "---  ------              --------------   -----  \n",
      " 0   symbol              221046 non-null  object \n",
      " 1   exchange            221046 non-null  object \n",
      " 2   date                221046 non-null  object \n",
      " 3   adjusted close      221046 non-null  float64\n",
      " 4   option symbol       221046 non-null  object \n",
      " 5   expiration          221046 non-null  object \n",
      " 6   strike              221046 non-null  float64\n",
      " 7   call/put            221046 non-null  object \n",
      " 8   style               221046 non-null  object \n",
      " 9   ask                 221046 non-null  float64\n",
      " 10  bid                 221046 non-null  float64\n",
      " 11  mean price          221046 non-null  float64\n",
      " 12  iv                  221046 non-null  float64\n",
      " 13  volume              221046 non-null  int64  \n",
      " 14  open interest       221046 non-null  int64  \n",
      " 15  stock price for iv  221046 non-null  float64\n",
      " 16  *                   29039 non-null   object \n",
      " 17  delta               221046 non-null  float64\n",
      " 18  vega                221046 non-null  float64\n",
      " 19  gamma               221046 non-null  float64\n",
      " 20  theta               221046 non-null  float64\n",
      " 21  rho                 221046 non-null  float64\n",
      "dtypes: float64(12), int64(2), object(8)\n",
      "memory usage: 37.1+ MB\n"
     ]
    }
   ],
   "source": [
    "#Detailed information display\n",
    "data.info()"
   ]
  },
  {
   "cell_type": "code",
   "execution_count": 5,
   "id": "75525113",
   "metadata": {
    "scrolled": true
   },
   "outputs": [
    {
     "data": {
      "text/plain": [
       "Index(['symbol', 'exchange', 'date', 'adjusted close', 'option symbol',\n",
       "       'expiration', 'strike', 'call/put', 'style', 'ask', 'bid', 'mean price',\n",
       "       'iv', 'volume', 'open interest', 'stock price for iv', '*', 'delta',\n",
       "       'vega', 'gamma', 'theta', 'rho'],\n",
       "      dtype='object')"
      ]
     },
     "execution_count": 5,
     "metadata": {},
     "output_type": "execute_result"
    }
   ],
   "source": [
    "#Features\n",
    "data.columns"
   ]
  },
  {
   "cell_type": "code",
   "execution_count": 6,
   "id": "d98e252b",
   "metadata": {},
   "outputs": [
    {
     "data": {
      "text/plain": [
       "symbol                 object\n",
       "exchange               object\n",
       "date                   object\n",
       "adjusted close        float64\n",
       "option symbol          object\n",
       "expiration             object\n",
       "strike                float64\n",
       "call/put               object\n",
       "style                  object\n",
       "ask                   float64\n",
       "bid                   float64\n",
       "mean price            float64\n",
       "iv                    float64\n",
       "volume                  int64\n",
       "open interest           int64\n",
       "stock price for iv    float64\n",
       "*                      object\n",
       "delta                 float64\n",
       "vega                  float64\n",
       "gamma                 float64\n",
       "theta                 float64\n",
       "rho                   float64\n",
       "dtype: object"
      ]
     },
     "execution_count": 6,
     "metadata": {},
     "output_type": "execute_result"
    }
   ],
   "source": [
    "#Show the data types of each feature\n",
    "data.dtypes"
   ]
  },
  {
   "cell_type": "code",
   "execution_count": 7,
   "id": "0e817ac5",
   "metadata": {
    "scrolled": true
   },
   "outputs": [
    {
     "data": {
      "text/html": [
       "<div>\n",
       "<style scoped>\n",
       "    .dataframe tbody tr th:only-of-type {\n",
       "        vertical-align: middle;\n",
       "    }\n",
       "\n",
       "    .dataframe tbody tr th {\n",
       "        vertical-align: top;\n",
       "    }\n",
       "\n",
       "    .dataframe thead th {\n",
       "        text-align: right;\n",
       "    }\n",
       "</style>\n",
       "<table border=\"1\" class=\"dataframe\">\n",
       "  <thead>\n",
       "    <tr style=\"text-align: right;\">\n",
       "      <th></th>\n",
       "      <th>adjusted close</th>\n",
       "      <th>strike</th>\n",
       "      <th>ask</th>\n",
       "      <th>bid</th>\n",
       "      <th>mean price</th>\n",
       "      <th>iv</th>\n",
       "      <th>volume</th>\n",
       "      <th>open interest</th>\n",
       "      <th>stock price for iv</th>\n",
       "      <th>delta</th>\n",
       "      <th>vega</th>\n",
       "      <th>gamma</th>\n",
       "      <th>theta</th>\n",
       "      <th>rho</th>\n",
       "    </tr>\n",
       "  </thead>\n",
       "  <tbody>\n",
       "    <tr>\n",
       "      <th>count</th>\n",
       "      <td>221046.000000</td>\n",
       "      <td>221046.000000</td>\n",
       "      <td>221046.000000</td>\n",
       "      <td>221046.000000</td>\n",
       "      <td>221046.000000</td>\n",
       "      <td>221046.000000</td>\n",
       "      <td>221046.000000</td>\n",
       "      <td>221046.000000</td>\n",
       "      <td>221046.000000</td>\n",
       "      <td>221046.000000</td>\n",
       "      <td>221046.000000</td>\n",
       "      <td>221046.000000</td>\n",
       "      <td>221046.000000</td>\n",
       "      <td>221046.000000</td>\n",
       "    </tr>\n",
       "    <tr>\n",
       "      <th>mean</th>\n",
       "      <td>435.089149</td>\n",
       "      <td>398.702076</td>\n",
       "      <td>41.667365</td>\n",
       "      <td>40.967420</td>\n",
       "      <td>41.315752</td>\n",
       "      <td>0.234593</td>\n",
       "      <td>405.715661</td>\n",
       "      <td>1660.743542</td>\n",
       "      <td>434.966436</td>\n",
       "      <td>0.102498</td>\n",
       "      <td>0.503011</td>\n",
       "      <td>0.005594</td>\n",
       "      <td>-0.042474</td>\n",
       "      <td>-0.067521</td>\n",
       "    </tr>\n",
       "    <tr>\n",
       "      <th>std</th>\n",
       "      <td>3.863763</td>\n",
       "      <td>93.725546</td>\n",
       "      <td>60.504762</td>\n",
       "      <td>59.876656</td>\n",
       "      <td>60.189057</td>\n",
       "      <td>0.225324</td>\n",
       "      <td>5100.355521</td>\n",
       "      <td>6040.663628</td>\n",
       "      <td>3.837734</td>\n",
       "      <td>0.614277</td>\n",
       "      <td>0.544469</td>\n",
       "      <td>0.009183</td>\n",
       "      <td>0.040318</td>\n",
       "      <td>1.726706</td>\n",
       "    </tr>\n",
       "    <tr>\n",
       "      <th>min</th>\n",
       "      <td>424.970000</td>\n",
       "      <td>25.000000</td>\n",
       "      <td>0.010000</td>\n",
       "      <td>0.000000</td>\n",
       "      <td>0.000000</td>\n",
       "      <td>-1.000000</td>\n",
       "      <td>0.000000</td>\n",
       "      <td>0.000000</td>\n",
       "      <td>425.020000</td>\n",
       "      <td>-1.000000</td>\n",
       "      <td>0.000000</td>\n",
       "      <td>0.000000</td>\n",
       "      <td>-0.779877</td>\n",
       "      <td>-15.741297</td>\n",
       "    </tr>\n",
       "    <tr>\n",
       "      <th>25%</th>\n",
       "      <td>432.930000</td>\n",
       "      <td>349.000000</td>\n",
       "      <td>1.660000</td>\n",
       "      <td>1.500000</td>\n",
       "      <td>1.600000</td>\n",
       "      <td>0.139646</td>\n",
       "      <td>0.000000</td>\n",
       "      <td>1.000000</td>\n",
       "      <td>432.520000</td>\n",
       "      <td>-0.240680</td>\n",
       "      <td>0.061539</td>\n",
       "      <td>0.000718</td>\n",
       "      <td>-0.056856</td>\n",
       "      <td>-0.143418</td>\n",
       "    </tr>\n",
       "    <tr>\n",
       "      <th>50%</th>\n",
       "      <td>435.460000</td>\n",
       "      <td>411.000000</td>\n",
       "      <td>15.910000</td>\n",
       "      <td>15.440000</td>\n",
       "      <td>15.650000</td>\n",
       "      <td>0.206940</td>\n",
       "      <td>0.000000</td>\n",
       "      <td>100.000000</td>\n",
       "      <td>435.440000</td>\n",
       "      <td>0.000000</td>\n",
       "      <td>0.293737</td>\n",
       "      <td>0.002824</td>\n",
       "      <td>-0.035767</td>\n",
       "      <td>0.000000</td>\n",
       "    </tr>\n",
       "    <tr>\n",
       "      <th>75%</th>\n",
       "      <td>438.510000</td>\n",
       "      <td>454.000000</td>\n",
       "      <td>52.550000</td>\n",
       "      <td>51.550000</td>\n",
       "      <td>52.040000</td>\n",
       "      <td>0.306208</td>\n",
       "      <td>19.000000</td>\n",
       "      <td>918.000000</td>\n",
       "      <td>438.140000</td>\n",
       "      <td>0.731058</td>\n",
       "      <td>0.817714</td>\n",
       "      <td>0.006464</td>\n",
       "      <td>-0.014486</td>\n",
       "      <td>0.334990</td>\n",
       "    </tr>\n",
       "    <tr>\n",
       "      <th>max</th>\n",
       "      <td>441.020000</td>\n",
       "      <td>655.000000</td>\n",
       "      <td>416.890000</td>\n",
       "      <td>415.230000</td>\n",
       "      <td>416.060000</td>\n",
       "      <td>1.805012</td>\n",
       "      <td>446333.000000</td>\n",
       "      <td>169905.000000</td>\n",
       "      <td>441.050000</td>\n",
       "      <td>1.000000</td>\n",
       "      <td>2.674587</td>\n",
       "      <td>0.185555</td>\n",
       "      <td>0.000000</td>\n",
       "      <td>5.584008</td>\n",
       "    </tr>\n",
       "  </tbody>\n",
       "</table>\n",
       "</div>"
      ],
      "text/plain": [
       "       adjusted close         strike            ask            bid  \\\n",
       "count   221046.000000  221046.000000  221046.000000  221046.000000   \n",
       "mean       435.089149     398.702076      41.667365      40.967420   \n",
       "std          3.863763      93.725546      60.504762      59.876656   \n",
       "min        424.970000      25.000000       0.010000       0.000000   \n",
       "25%        432.930000     349.000000       1.660000       1.500000   \n",
       "50%        435.460000     411.000000      15.910000      15.440000   \n",
       "75%        438.510000     454.000000      52.550000      51.550000   \n",
       "max        441.020000     655.000000     416.890000     415.230000   \n",
       "\n",
       "          mean price             iv         volume  open interest  \\\n",
       "count  221046.000000  221046.000000  221046.000000  221046.000000   \n",
       "mean       41.315752       0.234593     405.715661    1660.743542   \n",
       "std        60.189057       0.225324    5100.355521    6040.663628   \n",
       "min         0.000000      -1.000000       0.000000       0.000000   \n",
       "25%         1.600000       0.139646       0.000000       1.000000   \n",
       "50%        15.650000       0.206940       0.000000     100.000000   \n",
       "75%        52.040000       0.306208      19.000000     918.000000   \n",
       "max       416.060000       1.805012  446333.000000  169905.000000   \n",
       "\n",
       "       stock price for iv          delta           vega          gamma  \\\n",
       "count       221046.000000  221046.000000  221046.000000  221046.000000   \n",
       "mean           434.966436       0.102498       0.503011       0.005594   \n",
       "std              3.837734       0.614277       0.544469       0.009183   \n",
       "min            425.020000      -1.000000       0.000000       0.000000   \n",
       "25%            432.520000      -0.240680       0.061539       0.000718   \n",
       "50%            435.440000       0.000000       0.293737       0.002824   \n",
       "75%            438.140000       0.731058       0.817714       0.006464   \n",
       "max            441.050000       1.000000       2.674587       0.185555   \n",
       "\n",
       "               theta            rho  \n",
       "count  221046.000000  221046.000000  \n",
       "mean       -0.042474      -0.067521  \n",
       "std         0.040318       1.726706  \n",
       "min        -0.779877     -15.741297  \n",
       "25%        -0.056856      -0.143418  \n",
       "50%        -0.035767       0.000000  \n",
       "75%        -0.014486       0.334990  \n",
       "max         0.000000       5.584008  "
      ]
     },
     "execution_count": 7,
     "metadata": {},
     "output_type": "execute_result"
    }
   ],
   "source": [
    "#Describe in detail each feature\n",
    "data.describe()"
   ]
  },
  {
   "cell_type": "code",
   "execution_count": 8,
   "id": "41ad0768",
   "metadata": {},
   "outputs": [
    {
     "data": {
      "text/plain": [
       "symbol                     0\n",
       "exchange                   0\n",
       "date                       0\n",
       "adjusted close             0\n",
       "option symbol              0\n",
       "expiration                 0\n",
       "strike                     0\n",
       "call/put                   0\n",
       "style                      0\n",
       "ask                        0\n",
       "bid                        0\n",
       "mean price                 0\n",
       "iv                         0\n",
       "volume                     0\n",
       "open interest              0\n",
       "stock price for iv         0\n",
       "*                     192007\n",
       "delta                      0\n",
       "vega                       0\n",
       "gamma                      0\n",
       "theta                      0\n",
       "rho                        0\n",
       "dtype: int64"
      ]
     },
     "execution_count": 8,
     "metadata": {},
     "output_type": "execute_result"
    }
   ],
   "source": [
    "#Allows to display the sum of null data found\n",
    "data.isnull().sum()"
   ]
  },
  {
   "cell_type": "code",
   "execution_count": 9,
   "id": "d19c9af4",
   "metadata": {},
   "outputs": [
    {
     "name": "stdout",
     "output_type": "stream",
     "text": [
      "4863012\n",
      "2\n",
      "(221046, 22)\n"
     ]
    }
   ],
   "source": [
    "#Detail the general characteristics of the dataset\n",
    "print(data.size)\n",
    "print(data.ndim)\n",
    "print(data.shape)"
   ]
  },
  {
   "cell_type": "code",
   "execution_count": 10,
   "id": "84b71b2a",
   "metadata": {},
   "outputs": [
    {
     "data": {
      "text/plain": [
       "symbol                     1\n",
       "exchange                   1\n",
       "date                      21\n",
       "adjusted close            21\n",
       "option symbol          13960\n",
       "expiration                48\n",
       "strike                   312\n",
       "call/put                   2\n",
       "style                      1\n",
       "ask                    22926\n",
       "bid                    22611\n",
       "mean price             36172\n",
       "iv                    146910\n",
       "volume                  6205\n",
       "open interest          14825\n",
       "stock price for iv        21\n",
       "*                          1\n",
       "delta                 182814\n",
       "vega                  179397\n",
       "gamma                  28374\n",
       "theta                  91796\n",
       "rho                   183742\n",
       "dtype: int64"
      ]
     },
     "execution_count": 10,
     "metadata": {},
     "output_type": "execute_result"
    }
   ],
   "source": [
    "#Shows the amount of unique data in each feature\n",
    "data.nunique()"
   ]
  },
  {
   "cell_type": "code",
   "execution_count": 11,
   "id": "88b01adb",
   "metadata": {},
   "outputs": [],
   "source": [
    "# col_drop=['symbol','exchange','style','*']\n",
    "# data=data.drop(columns=col_drop)\n",
    "# data.head()"
   ]
  },
  {
   "cell_type": "code",
   "execution_count": null,
   "id": "755e561e",
   "metadata": {},
   "outputs": [],
   "source": []
  },
  {
   "cell_type": "markdown",
   "id": "753f9c51",
   "metadata": {},
   "source": [
    "## Data Aggregation and Representation"
   ]
  },
  {
   "cell_type": "code",
   "execution_count": 12,
   "id": "f9167167",
   "metadata": {},
   "outputs": [
    {
     "data": {
      "image/png": "[encoded data removed]",
      "text/plain": [
       "<Figure size 1000x600 with 1 Axes>"
      ]
     },
     "metadata": {},
     "output_type": "display_data"
    }
   ],
   "source": [
    "# Boxplot for 'call/put' vs 'adjusted close'\n",
    "\n",
    "plt.figure(figsize=(10, 6))\n",
    "sns.boxplot(x='call/put', y='adjusted close', data=data)\n",
    "plt.title('Boxplot of Call/Put vs Adjusted Close')\n",
    "plt.show()"
   ]
  },
  {
   "cell_type": "markdown",
   "id": "23f914ae",
   "metadata": {},
   "source": [
    "## Data Analysis"
   ]
  },
  {
   "cell_type": "code",
   "execution_count": 13,
   "id": "4d9b6a93",
   "metadata": {},
   "outputs": [
    {
     "data": {
      "text/html": [
       "<div>\n",
       "<style scoped>\n",
       "    .dataframe tbody tr th:only-of-type {\n",
       "        vertical-align: middle;\n",
       "    }\n",
       "\n",
       "    .dataframe tbody tr th {\n",
       "        vertical-align: top;\n",
       "    }\n",
       "\n",
       "    .dataframe thead th {\n",
       "        text-align: right;\n",
       "    }\n",
       "</style>\n",
       "<table border=\"1\" class=\"dataframe\">\n",
       "  <thead>\n",
       "    <tr style=\"text-align: right;\">\n",
       "      <th></th>\n",
       "      <th>symbol</th>\n",
       "      <th>exchange</th>\n",
       "      <th>date</th>\n",
       "      <th>adjusted close</th>\n",
       "      <th>option symbol</th>\n",
       "      <th>expiration</th>\n",
       "      <th>strike</th>\n",
       "      <th>call/put</th>\n",
       "      <th>style</th>\n",
       "      <th>ask</th>\n",
       "      <th>...</th>\n",
       "      <th>iv</th>\n",
       "      <th>volume</th>\n",
       "      <th>open interest</th>\n",
       "      <th>stock price for iv</th>\n",
       "      <th>*</th>\n",
       "      <th>delta</th>\n",
       "      <th>vega</th>\n",
       "      <th>gamma</th>\n",
       "      <th>theta</th>\n",
       "      <th>rho</th>\n",
       "    </tr>\n",
       "  </thead>\n",
       "  <tbody>\n",
       "    <tr>\n",
       "      <th>0</th>\n",
       "      <td>SPY</td>\n",
       "      <td>NYSEArca</td>\n",
       "      <td>07/30/2021</td>\n",
       "      <td>438.51</td>\n",
       "      <td>SPY   210730C00215000</td>\n",
       "      <td>07/30/2021</td>\n",
       "      <td>215.0</td>\n",
       "      <td>False</td>\n",
       "      <td>A</td>\n",
       "      <td>224.56</td>\n",
       "      <td>...</td>\n",
       "      <td>-1.0</td>\n",
       "      <td>0</td>\n",
       "      <td>0</td>\n",
       "      <td>438.97</td>\n",
       "      <td>NaN</td>\n",
       "      <td>0.0</td>\n",
       "      <td>0.0</td>\n",
       "      <td>0.0</td>\n",
       "      <td>0.0</td>\n",
       "      <td>0.0</td>\n",
       "    </tr>\n",
       "    <tr>\n",
       "      <th>1</th>\n",
       "      <td>SPY</td>\n",
       "      <td>NYSEArca</td>\n",
       "      <td>07/30/2021</td>\n",
       "      <td>438.51</td>\n",
       "      <td>SPY   210730P00215000</td>\n",
       "      <td>07/30/2021</td>\n",
       "      <td>215.0</td>\n",
       "      <td>True</td>\n",
       "      <td>A</td>\n",
       "      <td>0.01</td>\n",
       "      <td>...</td>\n",
       "      <td>-1.0</td>\n",
       "      <td>0</td>\n",
       "      <td>1401</td>\n",
       "      <td>438.97</td>\n",
       "      <td>NaN</td>\n",
       "      <td>0.0</td>\n",
       "      <td>0.0</td>\n",
       "      <td>0.0</td>\n",
       "      <td>0.0</td>\n",
       "      <td>0.0</td>\n",
       "    </tr>\n",
       "    <tr>\n",
       "      <th>2</th>\n",
       "      <td>SPY</td>\n",
       "      <td>NYSEArca</td>\n",
       "      <td>07/30/2021</td>\n",
       "      <td>438.51</td>\n",
       "      <td>SPY   210730C00220000</td>\n",
       "      <td>07/30/2021</td>\n",
       "      <td>220.0</td>\n",
       "      <td>False</td>\n",
       "      <td>A</td>\n",
       "      <td>219.56</td>\n",
       "      <td>...</td>\n",
       "      <td>-1.0</td>\n",
       "      <td>0</td>\n",
       "      <td>1</td>\n",
       "      <td>438.97</td>\n",
       "      <td>NaN</td>\n",
       "      <td>0.0</td>\n",
       "      <td>0.0</td>\n",
       "      <td>0.0</td>\n",
       "      <td>0.0</td>\n",
       "      <td>0.0</td>\n",
       "    </tr>\n",
       "    <tr>\n",
       "      <th>3</th>\n",
       "      <td>SPY</td>\n",
       "      <td>NYSEArca</td>\n",
       "      <td>07/30/2021</td>\n",
       "      <td>438.51</td>\n",
       "      <td>SPY   210730P00220000</td>\n",
       "      <td>07/30/2021</td>\n",
       "      <td>220.0</td>\n",
       "      <td>True</td>\n",
       "      <td>A</td>\n",
       "      <td>0.01</td>\n",
       "      <td>...</td>\n",
       "      <td>-1.0</td>\n",
       "      <td>50</td>\n",
       "      <td>328</td>\n",
       "      <td>438.97</td>\n",
       "      <td>NaN</td>\n",
       "      <td>0.0</td>\n",
       "      <td>0.0</td>\n",
       "      <td>0.0</td>\n",
       "      <td>0.0</td>\n",
       "      <td>0.0</td>\n",
       "    </tr>\n",
       "    <tr>\n",
       "      <th>4</th>\n",
       "      <td>SPY</td>\n",
       "      <td>NYSEArca</td>\n",
       "      <td>07/30/2021</td>\n",
       "      <td>438.51</td>\n",
       "      <td>SPY   210730C00225000</td>\n",
       "      <td>07/30/2021</td>\n",
       "      <td>225.0</td>\n",
       "      <td>False</td>\n",
       "      <td>A</td>\n",
       "      <td>214.56</td>\n",
       "      <td>...</td>\n",
       "      <td>-1.0</td>\n",
       "      <td>0</td>\n",
       "      <td>0</td>\n",
       "      <td>438.97</td>\n",
       "      <td>NaN</td>\n",
       "      <td>0.0</td>\n",
       "      <td>0.0</td>\n",
       "      <td>0.0</td>\n",
       "      <td>0.0</td>\n",
       "      <td>0.0</td>\n",
       "    </tr>\n",
       "  </tbody>\n",
       "</table>\n",
       "<p>5 rows × 22 columns</p>\n",
       "</div>"
      ],
      "text/plain": [
       "  symbol  exchange        date  adjusted close          option symbol  \\\n",
       "0    SPY  NYSEArca  07/30/2021          438.51  SPY   210730C00215000   \n",
       "1    SPY  NYSEArca  07/30/2021          438.51  SPY   210730P00215000   \n",
       "2    SPY  NYSEArca  07/30/2021          438.51  SPY   210730C00220000   \n",
       "3    SPY  NYSEArca  07/30/2021          438.51  SPY   210730P00220000   \n",
       "4    SPY  NYSEArca  07/30/2021          438.51  SPY   210730C00225000   \n",
       "\n",
       "   expiration  strike  call/put style     ask  ...   iv  volume  \\\n",
       "0  07/30/2021   215.0     False     A  224.56  ... -1.0       0   \n",
       "1  07/30/2021   215.0      True     A    0.01  ... -1.0       0   \n",
       "2  07/30/2021   220.0     False     A  219.56  ... -1.0       0   \n",
       "3  07/30/2021   220.0      True     A    0.01  ... -1.0      50   \n",
       "4  07/30/2021   225.0     False     A  214.56  ... -1.0       0   \n",
       "\n",
       "   open interest  stock price for iv    *  delta vega  gamma  theta  rho  \n",
       "0              0              438.97  NaN    0.0  0.0    0.0    0.0  0.0  \n",
       "1           1401              438.97  NaN    0.0  0.0    0.0    0.0  0.0  \n",
       "2              1              438.97  NaN    0.0  0.0    0.0    0.0  0.0  \n",
       "3            328              438.97  NaN    0.0  0.0    0.0    0.0  0.0  \n",
       "4              0              438.97  NaN    0.0  0.0    0.0    0.0  0.0  \n",
       "\n",
       "[5 rows x 22 columns]"
      ]
     },
     "execution_count": 13,
     "metadata": {},
     "output_type": "execute_result"
    }
   ],
   "source": [
    "#Transform the data type of Call/put from objects to booleans\n",
    "data['call/put'] = data['call/put'].replace({'P': True , 'C': False})\n",
    "data.head()"
   ]
  },
  {
   "cell_type": "code",
   "execution_count": 14,
   "id": "ac707a75",
   "metadata": {
    "scrolled": true
   },
   "outputs": [
    {
     "data": {
      "text/html": [
       "<div>\n",
       "<style scoped>\n",
       "    .dataframe tbody tr th:only-of-type {\n",
       "        vertical-align: middle;\n",
       "    }\n",
       "\n",
       "    .dataframe tbody tr th {\n",
       "        vertical-align: top;\n",
       "    }\n",
       "\n",
       "    .dataframe thead th {\n",
       "        text-align: right;\n",
       "    }\n",
       "</style>\n",
       "<table border=\"1\" class=\"dataframe\">\n",
       "  <thead>\n",
       "    <tr style=\"text-align: right;\">\n",
       "      <th></th>\n",
       "      <th>adjusted close</th>\n",
       "      <th>strike</th>\n",
       "      <th>call/put</th>\n",
       "      <th>ask</th>\n",
       "      <th>bid</th>\n",
       "      <th>mean price</th>\n",
       "      <th>iv</th>\n",
       "      <th>volume</th>\n",
       "      <th>open interest</th>\n",
       "      <th>stock price for iv</th>\n",
       "      <th>delta</th>\n",
       "      <th>vega</th>\n",
       "      <th>gamma</th>\n",
       "      <th>theta</th>\n",
       "      <th>rho</th>\n",
       "    </tr>\n",
       "  </thead>\n",
       "  <tbody>\n",
       "    <tr>\n",
       "      <th>adjusted close</th>\n",
       "      <td>1.000000e+00</td>\n",
       "      <td>1.649019e-02</td>\n",
       "      <td>5.401445e-18</td>\n",
       "      <td>0.002918</td>\n",
       "      <td>0.002511</td>\n",
       "      <td>0.002721</td>\n",
       "      <td>-0.003073</td>\n",
       "      <td>-0.008051</td>\n",
       "      <td>0.008685</td>\n",
       "      <td>9.962428e-01</td>\n",
       "      <td>0.017865</td>\n",
       "      <td>-0.001789</td>\n",
       "      <td>0.002520</td>\n",
       "      <td>0.030250</td>\n",
       "      <td>0.008098</td>\n",
       "    </tr>\n",
       "    <tr>\n",
       "      <th>strike</th>\n",
       "      <td>1.649019e-02</td>\n",
       "      <td>1.000000e+00</td>\n",
       "      <td>1.673672e-19</td>\n",
       "      <td>-0.319156</td>\n",
       "      <td>-0.322220</td>\n",
       "      <td>-0.320711</td>\n",
       "      <td>-0.574573</td>\n",
       "      <td>0.023565</td>\n",
       "      <td>-0.058686</td>\n",
       "      <td>1.694161e-02</td>\n",
       "      <td>-0.472470</td>\n",
       "      <td>0.128154</td>\n",
       "      <td>0.197369</td>\n",
       "      <td>-0.078016</td>\n",
       "      <td>-0.378695</td>\n",
       "    </tr>\n",
       "    <tr>\n",
       "      <th>call/put</th>\n",
       "      <td>5.401445e-18</td>\n",
       "      <td>1.673672e-19</td>\n",
       "      <td>1.000000e+00</td>\n",
       "      <td>-0.290714</td>\n",
       "      <td>-0.292705</td>\n",
       "      <td>-0.291701</td>\n",
       "      <td>-0.031213</td>\n",
       "      <td>0.009143</td>\n",
       "      <td>0.096228</td>\n",
       "      <td>7.447260e-18</td>\n",
       "      <td>-0.794320</td>\n",
       "      <td>-0.008008</td>\n",
       "      <td>0.002061</td>\n",
       "      <td>-0.040209</td>\n",
       "      <td>-0.491496</td>\n",
       "    </tr>\n",
       "    <tr>\n",
       "      <th>ask</th>\n",
       "      <td>2.918389e-03</td>\n",
       "      <td>-3.191557e-01</td>\n",
       "      <td>-2.907143e-01</td>\n",
       "      <td>1.000000</td>\n",
       "      <td>0.999817</td>\n",
       "      <td>0.999953</td>\n",
       "      <td>0.373107</td>\n",
       "      <td>-0.051920</td>\n",
       "      <td>-0.146613</td>\n",
       "      <td>2.873059e-03</td>\n",
       "      <td>0.335986</td>\n",
       "      <td>-0.010311</td>\n",
       "      <td>-0.251779</td>\n",
       "      <td>0.234647</td>\n",
       "      <td>-0.016752</td>\n",
       "    </tr>\n",
       "    <tr>\n",
       "      <th>bid</th>\n",
       "      <td>2.511475e-03</td>\n",
       "      <td>-3.222205e-01</td>\n",
       "      <td>-2.927050e-01</td>\n",
       "      <td>0.999817</td>\n",
       "      <td>1.000000</td>\n",
       "      <td>0.999954</td>\n",
       "      <td>0.376161</td>\n",
       "      <td>-0.051600</td>\n",
       "      <td>-0.145546</td>\n",
       "      <td>2.505483e-03</td>\n",
       "      <td>0.339313</td>\n",
       "      <td>-0.019067</td>\n",
       "      <td>-0.250529</td>\n",
       "      <td>0.232326</td>\n",
       "      <td>-0.013440</td>\n",
       "    </tr>\n",
       "    <tr>\n",
       "      <th>mean price</th>\n",
       "      <td>2.720523e-03</td>\n",
       "      <td>-3.207113e-01</td>\n",
       "      <td>-2.917014e-01</td>\n",
       "      <td>0.999953</td>\n",
       "      <td>0.999954</td>\n",
       "      <td>1.000000</td>\n",
       "      <td>0.374645</td>\n",
       "      <td>-0.051761</td>\n",
       "      <td>-0.146081</td>\n",
       "      <td>2.695349e-03</td>\n",
       "      <td>0.337654</td>\n",
       "      <td>-0.014654</td>\n",
       "      <td>-0.251149</td>\n",
       "      <td>0.233473</td>\n",
       "      <td>-0.015107</td>\n",
       "    </tr>\n",
       "    <tr>\n",
       "      <th>iv</th>\n",
       "      <td>-3.072735e-03</td>\n",
       "      <td>-5.745733e-01</td>\n",
       "      <td>-3.121342e-02</td>\n",
       "      <td>0.373107</td>\n",
       "      <td>0.376161</td>\n",
       "      <td>0.374645</td>\n",
       "      <td>1.000000</td>\n",
       "      <td>-0.126601</td>\n",
       "      <td>-0.001707</td>\n",
       "      <td>-4.614260e-03</td>\n",
       "      <td>0.323266</td>\n",
       "      <td>-0.106163</td>\n",
       "      <td>-0.202550</td>\n",
       "      <td>0.068170</td>\n",
       "      <td>0.125040</td>\n",
       "    </tr>\n",
       "    <tr>\n",
       "      <th>volume</th>\n",
       "      <td>-8.050872e-03</td>\n",
       "      <td>2.356461e-02</td>\n",
       "      <td>9.142804e-03</td>\n",
       "      <td>-0.051920</td>\n",
       "      <td>-0.051600</td>\n",
       "      <td>-0.051761</td>\n",
       "      <td>-0.126601</td>\n",
       "      <td>1.000000</td>\n",
       "      <td>0.185569</td>\n",
       "      <td>-8.141536e-03</td>\n",
       "      <td>-0.012911</td>\n",
       "      <td>-0.049532</td>\n",
       "      <td>0.278318</td>\n",
       "      <td>-0.226557</td>\n",
       "      <td>0.002718</td>\n",
       "    </tr>\n",
       "    <tr>\n",
       "      <th>open interest</th>\n",
       "      <td>8.684639e-03</td>\n",
       "      <td>-5.868596e-02</td>\n",
       "      <td>9.622847e-02</td>\n",
       "      <td>-0.146613</td>\n",
       "      <td>-0.145546</td>\n",
       "      <td>-0.146081</td>\n",
       "      <td>-0.001707</td>\n",
       "      <td>0.185569</td>\n",
       "      <td>1.000000</td>\n",
       "      <td>8.776850e-03</td>\n",
       "      <td>-0.017046</td>\n",
       "      <td>-0.051157</td>\n",
       "      <td>0.082769</td>\n",
       "      <td>-0.120480</td>\n",
       "      <td>0.021480</td>\n",
       "    </tr>\n",
       "    <tr>\n",
       "      <th>stock price for iv</th>\n",
       "      <td>9.962428e-01</td>\n",
       "      <td>1.694161e-02</td>\n",
       "      <td>7.447260e-18</td>\n",
       "      <td>0.002873</td>\n",
       "      <td>0.002505</td>\n",
       "      <td>0.002695</td>\n",
       "      <td>-0.004614</td>\n",
       "      <td>-0.008142</td>\n",
       "      <td>0.008777</td>\n",
       "      <td>1.000000e+00</td>\n",
       "      <td>0.017548</td>\n",
       "      <td>-0.002040</td>\n",
       "      <td>0.002175</td>\n",
       "      <td>0.030413</td>\n",
       "      <td>0.007912</td>\n",
       "    </tr>\n",
       "    <tr>\n",
       "      <th>delta</th>\n",
       "      <td>1.786544e-02</td>\n",
       "      <td>-4.724702e-01</td>\n",
       "      <td>-7.943196e-01</td>\n",
       "      <td>0.335986</td>\n",
       "      <td>0.339313</td>\n",
       "      <td>0.337654</td>\n",
       "      <td>0.323266</td>\n",
       "      <td>-0.012911</td>\n",
       "      <td>-0.017046</td>\n",
       "      <td>1.754763e-02</td>\n",
       "      <td>1.000000</td>\n",
       "      <td>-0.023021</td>\n",
       "      <td>-0.081819</td>\n",
       "      <td>-0.091948</td>\n",
       "      <td>0.579338</td>\n",
       "    </tr>\n",
       "    <tr>\n",
       "      <th>vega</th>\n",
       "      <td>-1.788977e-03</td>\n",
       "      <td>1.281543e-01</td>\n",
       "      <td>-8.007927e-03</td>\n",
       "      <td>-0.010311</td>\n",
       "      <td>-0.019067</td>\n",
       "      <td>-0.014654</td>\n",
       "      <td>-0.106163</td>\n",
       "      <td>-0.049532</td>\n",
       "      <td>-0.051157</td>\n",
       "      <td>-2.040455e-03</td>\n",
       "      <td>-0.023021</td>\n",
       "      <td>1.000000</td>\n",
       "      <td>0.027076</td>\n",
       "      <td>-0.085799</td>\n",
       "      <td>-0.008650</td>\n",
       "    </tr>\n",
       "    <tr>\n",
       "      <th>gamma</th>\n",
       "      <td>2.520407e-03</td>\n",
       "      <td>1.973685e-01</td>\n",
       "      <td>2.060523e-03</td>\n",
       "      <td>-0.251779</td>\n",
       "      <td>-0.250529</td>\n",
       "      <td>-0.251149</td>\n",
       "      <td>-0.202550</td>\n",
       "      <td>0.278318</td>\n",
       "      <td>0.082769</td>\n",
       "      <td>2.175225e-03</td>\n",
       "      <td>-0.081819</td>\n",
       "      <td>0.027076</td>\n",
       "      <td>1.000000</td>\n",
       "      <td>-0.737023</td>\n",
       "      <td>0.006753</td>\n",
       "    </tr>\n",
       "    <tr>\n",
       "      <th>theta</th>\n",
       "      <td>3.024954e-02</td>\n",
       "      <td>-7.801576e-02</td>\n",
       "      <td>-4.020904e-02</td>\n",
       "      <td>0.234647</td>\n",
       "      <td>0.232326</td>\n",
       "      <td>0.233473</td>\n",
       "      <td>0.068170</td>\n",
       "      <td>-0.226557</td>\n",
       "      <td>-0.120480</td>\n",
       "      <td>3.041285e-02</td>\n",
       "      <td>-0.091948</td>\n",
       "      <td>-0.085799</td>\n",
       "      <td>-0.737023</td>\n",
       "      <td>1.000000</td>\n",
       "      <td>-0.037743</td>\n",
       "    </tr>\n",
       "    <tr>\n",
       "      <th>rho</th>\n",
       "      <td>8.098395e-03</td>\n",
       "      <td>-3.786954e-01</td>\n",
       "      <td>-4.914962e-01</td>\n",
       "      <td>-0.016752</td>\n",
       "      <td>-0.013440</td>\n",
       "      <td>-0.015107</td>\n",
       "      <td>0.125040</td>\n",
       "      <td>0.002718</td>\n",
       "      <td>0.021480</td>\n",
       "      <td>7.911547e-03</td>\n",
       "      <td>0.579338</td>\n",
       "      <td>-0.008650</td>\n",
       "      <td>0.006753</td>\n",
       "      <td>-0.037743</td>\n",
       "      <td>1.000000</td>\n",
       "    </tr>\n",
       "  </tbody>\n",
       "</table>\n",
       "</div>"
      ],
      "text/plain": [
       "                    adjusted close        strike      call/put       ask  \\\n",
       "adjusted close        1.000000e+00  1.649019e-02  5.401445e-18  0.002918   \n",
       "strike                1.649019e-02  1.000000e+00  1.673672e-19 -0.319156   \n",
       "call/put              5.401445e-18  1.673672e-19  1.000000e+00 -0.290714   \n",
       "ask                   2.918389e-03 -3.191557e-01 -2.907143e-01  1.000000   \n",
       "bid                   2.511475e-03 -3.222205e-01 -2.927050e-01  0.999817   \n",
       "mean price            2.720523e-03 -3.207113e-01 -2.917014e-01  0.999953   \n",
       "iv                   -3.072735e-03 -5.745733e-01 -3.121342e-02  0.373107   \n",
       "volume               -8.050872e-03  2.356461e-02  9.142804e-03 -0.051920   \n",
       "open interest         8.684639e-03 -5.868596e-02  9.622847e-02 -0.146613   \n",
       "stock price for iv    9.962428e-01  1.694161e-02  7.447260e-18  0.002873   \n",
       "delta                 1.786544e-02 -4.724702e-01 -7.943196e-01  0.335986   \n",
       "vega                 -1.788977e-03  1.281543e-01 -8.007927e-03 -0.010311   \n",
       "gamma                 2.520407e-03  1.973685e-01  2.060523e-03 -0.251779   \n",
       "theta                 3.024954e-02 -7.801576e-02 -4.020904e-02  0.234647   \n",
       "rho                   8.098395e-03 -3.786954e-01 -4.914962e-01 -0.016752   \n",
       "\n",
       "                         bid  mean price        iv    volume  open interest  \\\n",
       "adjusted close      0.002511    0.002721 -0.003073 -0.008051       0.008685   \n",
       "strike             -0.322220   -0.320711 -0.574573  0.023565      -0.058686   \n",
       "call/put           -0.292705   -0.291701 -0.031213  0.009143       0.096228   \n",
       "ask                 0.999817    0.999953  0.373107 -0.051920      -0.146613   \n",
       "bid                 1.000000    0.999954  0.376161 -0.051600      -0.145546   \n",
       "mean price          0.999954    1.000000  0.374645 -0.051761      -0.146081   \n",
       "iv                  0.376161    0.374645  1.000000 -0.126601      -0.001707   \n",
       "volume             -0.051600   -0.051761 -0.126601  1.000000       0.185569   \n",
       "open interest      -0.145546   -0.146081 -0.001707  0.185569       1.000000   \n",
       "stock price for iv  0.002505    0.002695 -0.004614 -0.008142       0.008777   \n",
       "delta               0.339313    0.337654  0.323266 -0.012911      -0.017046   \n",
       "vega               -0.019067   -0.014654 -0.106163 -0.049532      -0.051157   \n",
       "gamma              -0.250529   -0.251149 -0.202550  0.278318       0.082769   \n",
       "theta               0.232326    0.233473  0.068170 -0.226557      -0.120480   \n",
       "rho                -0.013440   -0.015107  0.125040  0.002718       0.021480   \n",
       "\n",
       "                    stock price for iv     delta      vega     gamma  \\\n",
       "adjusted close            9.962428e-01  0.017865 -0.001789  0.002520   \n",
       "strike                    1.694161e-02 -0.472470  0.128154  0.197369   \n",
       "call/put                  7.447260e-18 -0.794320 -0.008008  0.002061   \n",
       "ask                       2.873059e-03  0.335986 -0.010311 -0.251779   \n",
       "bid                       2.505483e-03  0.339313 -0.019067 -0.250529   \n",
       "mean price                2.695349e-03  0.337654 -0.014654 -0.251149   \n",
       "iv                       -4.614260e-03  0.323266 -0.106163 -0.202550   \n",
       "volume                   -8.141536e-03 -0.012911 -0.049532  0.278318   \n",
       "open interest             8.776850e-03 -0.017046 -0.051157  0.082769   \n",
       "stock price for iv        1.000000e+00  0.017548 -0.002040  0.002175   \n",
       "delta                     1.754763e-02  1.000000 -0.023021 -0.081819   \n",
       "vega                     -2.040455e-03 -0.023021  1.000000  0.027076   \n",
       "gamma                     2.175225e-03 -0.081819  0.027076  1.000000   \n",
       "theta                     3.041285e-02 -0.091948 -0.085799 -0.737023   \n",
       "rho                       7.911547e-03  0.579338 -0.008650  0.006753   \n",
       "\n",
       "                       theta       rho  \n",
       "adjusted close      0.030250  0.008098  \n",
       "strike             -0.078016 -0.378695  \n",
       "call/put           -0.040209 -0.491496  \n",
       "ask                 0.234647 -0.016752  \n",
       "bid                 0.232326 -0.013440  \n",
       "mean price          0.233473 -0.015107  \n",
       "iv                  0.068170  0.125040  \n",
       "volume             -0.226557  0.002718  \n",
       "open interest      -0.120480  0.021480  \n",
       "stock price for iv  0.030413  0.007912  \n",
       "delta              -0.091948  0.579338  \n",
       "vega               -0.085799 -0.008650  \n",
       "gamma              -0.737023  0.006753  \n",
       "theta               1.000000 -0.037743  \n",
       "rho                -0.037743  1.000000  "
      ]
     },
     "execution_count": 14,
     "metadata": {},
     "output_type": "execute_result"
    }
   ],
   "source": [
    "#Verify the correlation between the feature of the dataset\n",
    "co=data.corr(numeric_only=True)\n",
    "co"
   ]
  },
  {
   "cell_type": "code",
   "execution_count": 15,
   "id": "5e067008",
   "metadata": {},
   "outputs": [
    {
     "data": {
      "image/png": "[encoded data removed]",
      "text/plain": [
       "<Figure size 1200x1000 with 2 Axes>"
      ]
     },
     "metadata": {},
     "output_type": "display_data"
    }
   ],
   "source": [
    "# Correlation heatmap to identify relationships between numerical features\n",
    "correlation_matrix = data.corr(numeric_only=True)\n",
    "plt.figure(figsize=(12, 10))\n",
    "sns.heatmap(correlation_matrix, annot=True, cmap='coolwarm', fmt='.2f', linewidths=1)\n",
    "plt.title('Correlation Heatmap')\n",
    "plt.show()"
   ]
  },
  {
   "cell_type": "markdown",
   "id": "cbab80f6",
   "metadata": {},
   "source": [
    "## Data Visualization"
   ]
  },
  {
   "cell_type": "code",
   "execution_count": 16,
   "id": "0bb72cdd",
   "metadata": {},
   "outputs": [
    {
     "data": {
      "image/png": "[encoded data removed]",
      "text/plain": [
       "<Figure size 600x400 with 1 Axes>"
      ]
     },
     "metadata": {},
     "output_type": "display_data"
    }
   ],
   "source": [
    "# Countplot for 'call/put'\n",
    "plt.figure(figsize=(6, 4))\n",
    "sns.countplot(x='call/put', data=data)\n",
    "plt.title('Countplot of Call/Put')\n",
    "plt.show()"
   ]
  },
  {
   "cell_type": "code",
   "execution_count": 17,
   "id": "8b1931ed",
   "metadata": {},
   "outputs": [
    {
     "data": {
      "text/plain": [
       "<Axes: xlabel='call/put', ylabel='delta'>"
      ]
     },
     "execution_count": 17,
     "metadata": {},
     "output_type": "execute_result"
    },
    {
     "data": {
      "image/png": "[encoded data removed]",
      "text/plain": [
       "<Figure size 640x480 with 1 Axes>"
      ]
     },
     "metadata": {},
     "output_type": "display_data"
    }
   ],
   "source": [
    "# Boxplot for 'call/put' vs 'delta'\n",
    "sns.boxplot(data,x='call/put',y='delta',hue='call/put')"
   ]
  },
  {
   "cell_type": "code",
   "execution_count": 18,
   "id": "e50fd843",
   "metadata": {},
   "outputs": [
    {
     "data": {
      "text/plain": [
       "<Axes: xlabel='call/put', ylabel='mean price'>"
      ]
     },
     "execution_count": 18,
     "metadata": {},
     "output_type": "execute_result"
    },
    {
     "data": {
      "image/png": "[encoded data removed]",
      "text/plain": [
       "<Figure size 640x480 with 1 Axes>"
      ]
     },
     "metadata": {},
     "output_type": "display_data"
    }
   ],
   "source": [
    "# Boxplot for 'call/put' vs 'mean price'\n",
    "sns.boxplot(data=data,x='call/put',y='mean price',hue='call/put')"
   ]
  },
  {
   "cell_type": "code",
   "execution_count": 19,
   "id": "09038407",
   "metadata": {},
   "outputs": [
    {
     "data": {
      "text/plain": [
       "<Axes: xlabel='call/put', ylabel='rho'>"
      ]
     },
     "execution_count": 19,
     "metadata": {},
     "output_type": "execute_result"
    },
    {
     "data": {
      "image/png": "[encoded data removed]",
      "text/plain": [
       "<Figure size 640x480 with 1 Axes>"
      ]
     },
     "metadata": {},
     "output_type": "display_data"
    }
   ],
   "source": [
    "# Barplot for 'call/put' vs 'rho'\n",
    "sns.barplot(data=data,x='call/put',y='rho',hue='call/put')"
   ]
  },
  {
   "cell_type": "code",
   "execution_count": 20,
   "id": "8d4429e5",
   "metadata": {},
   "outputs": [
    {
     "data": {
      "text/plain": [
       "<Axes: xlabel='call/put', ylabel='rho'>"
      ]
     },
     "execution_count": 20,
     "metadata": {},
     "output_type": "execute_result"
    },
    {
     "data": {
      "image/png": "[encoded data removed]",
      "text/plain": [
       "<Figure size 640x480 with 1 Axes>"
      ]
     },
     "metadata": {},
     "output_type": "display_data"
    }
   ],
   "source": [
    "# Boxplot for 'call/put' vs 'rho'\n",
    "sns.boxplot(data=data,x='call/put',y='rho',hue='call/put')"
   ]
  },
  {
   "cell_type": "markdown",
   "id": "c5d06192",
   "metadata": {},
   "source": [
    "## Utilization of Analysis Results"
   ]
  },
  {
   "cell_type": "code",
   "execution_count": 258,
   "id": "5802e0d1",
   "metadata": {},
   "outputs": [],
   "source": [
    "#Feature selection and preparation\n",
    "filtered_data = data[['date','adjusted close', 'strike', 'call/put', 'ask', 'bid', 'mean price',\n",
    "       'iv', 'volume', 'open interest', 'stock price for iv', 'delta',\n",
    "       'vega', 'gamma', 'theta', 'rho']]"
   ]
  },
  {
   "cell_type": "code",
   "execution_count": 259,
   "id": "3ed6e8da",
   "metadata": {},
   "outputs": [],
   "source": [
    "#Selection of the date defined data\n",
    "filtered_train = filtered_data[filtered_data['date'] != '07/30/2021']\n",
    "filtered_test = filtered_data[filtered_data['date'] == '07/30/2021']"
   ]
  },
  {
   "cell_type": "code",
   "execution_count": 260,
   "id": "c637ff74",
   "metadata": {},
   "outputs": [],
   "source": [
    "features = ['adjusted close', 'strike', 'ask', 'bid', 'mean price',\n",
    "       'iv', 'volume', 'open interest', 'stock price for iv', 'delta',\n",
    "       'vega', 'gamma', 'theta', 'rho']\n",
    "target = 'call/put'\n",
    "\n",
    "X_train = filtered_train[features]\n",
    "X_test = filtered_test[features]\n",
    "\n",
    "y_train = filtered_train[target]\n",
    "y_test = filtered_test[target]"
   ]
  },
  {
   "cell_type": "code",
   "execution_count": 108,
   "id": "976c679a",
   "metadata": {},
   "outputs": [],
   "source": [
    "log=LogisticRegression()"
   ]
  },
  {
   "cell_type": "code",
   "execution_count": 109,
   "id": "1b0389bf",
   "metadata": {},
   "outputs": [
    {
     "name": "stderr",
     "output_type": "stream",
     "text": [
      "C:\\Users\\91951\\anaconda3\\lib\\site-packages\\sklearn\\linear_model\\_logistic.py:460: ConvergenceWarning: lbfgs failed to converge (status=1):\n",
      "STOP: TOTAL NO. of ITERATIONS REACHED LIMIT.\n",
      "\n",
      "Increase the number of iterations (max_iter) or scale the data as shown in:\n",
      "    https://scikit-learn.org/stable/modules/preprocessing.html\n",
      "Please also refer to the documentation for alternative solver options:\n",
      "    https://scikit-learn.org/stable/modules/linear_model.html#logistic-regression\n",
      "  n_iter_i = _check_optimize_result(\n"
     ]
    },
    {
     "data": {
      "text/html": [
       "<style>#sk-container-id-9 {color: black;}#sk-container-id-9 pre{padding: 0;}#sk-container-id-9 div.sk-toggleable {background-color: white;}#sk-container-id-9 label.sk-toggleable__label {cursor: pointer;display: block;width: 100%;margin-bottom: 0;padding: 0.3em;box-sizing: border-box;text-align: center;}#sk-container-id-9 label.sk-toggleable__label-arrow:before {content: \"▸\";float: left;margin-right: 0.25em;color: #696969;}#sk-container-id-9 label.sk-toggleable__label-arrow:hover:before {color: black;}#sk-container-id-9 div.sk-estimator:hover label.sk-toggleable__label-arrow:before {color: black;}#sk-container-id-9 div.sk-toggleable__content {max-height: 0;max-width: 0;overflow: hidden;text-align: left;background-color: #f0f8ff;}#sk-container-id-9 div.sk-toggleable__content pre {margin: 0.2em;color: black;border-radius: 0.25em;background-color: #f0f8ff;}#sk-container-id-9 input.sk-toggleable__control:checked~div.sk-toggleable__content {max-height: 200px;max-width: 100%;overflow: auto;}#sk-container-id-9 input.sk-toggleable__control:checked~label.sk-toggleable__label-arrow:before {content: \"▾\";}#sk-container-id-9 div.sk-estimator input.sk-toggleable__control:checked~label.sk-toggleable__label {background-color: #d4ebff;}#sk-container-id-9 div.sk-label input.sk-toggleable__control:checked~label.sk-toggleable__label {background-color: #d4ebff;}#sk-container-id-9 input.sk-hidden--visually {border: 0;clip: rect(1px 1px 1px 1px);clip: rect(1px, 1px, 1px, 1px);height: 1px;margin: -1px;overflow: hidden;padding: 0;position: absolute;width: 1px;}#sk-container-id-9 div.sk-estimator {font-family: monospace;background-color: #f0f8ff;border: 1px dotted black;border-radius: 0.25em;box-sizing: border-box;margin-bottom: 0.5em;}#sk-container-id-9 div.sk-estimator:hover {background-color: #d4ebff;}#sk-container-id-9 div.sk-parallel-item::after {content: \"\";width: 100%;border-bottom: 1px solid gray;flex-grow: 1;}#sk-container-id-9 div.sk-label:hover label.sk-toggleable__label {background-color: #d4ebff;}#sk-container-id-9 div.sk-serial::before {content: \"\";position: absolute;border-left: 1px solid gray;box-sizing: border-box;top: 0;bottom: 0;left: 50%;z-index: 0;}#sk-container-id-9 div.sk-serial {display: flex;flex-direction: column;align-items: center;background-color: white;padding-right: 0.2em;padding-left: 0.2em;position: relative;}#sk-container-id-9 div.sk-item {position: relative;z-index: 1;}#sk-container-id-9 div.sk-parallel {display: flex;align-items: stretch;justify-content: center;background-color: white;position: relative;}#sk-container-id-9 div.sk-item::before, #sk-container-id-9 div.sk-parallel-item::before {content: \"\";position: absolute;border-left: 1px solid gray;box-sizing: border-box;top: 0;bottom: 0;left: 50%;z-index: -1;}#sk-container-id-9 div.sk-parallel-item {display: flex;flex-direction: column;z-index: 1;position: relative;background-color: white;}#sk-container-id-9 div.sk-parallel-item:first-child::after {align-self: flex-end;width: 50%;}#sk-container-id-9 div.sk-parallel-item:last-child::after {align-self: flex-start;width: 50%;}#sk-container-id-9 div.sk-parallel-item:only-child::after {width: 0;}#sk-container-id-9 div.sk-dashed-wrapped {border: 1px dashed gray;margin: 0 0.4em 0.5em 0.4em;box-sizing: border-box;padding-bottom: 0.4em;background-color: white;}#sk-container-id-9 div.sk-label label {font-family: monospace;font-weight: bold;display: inline-block;line-height: 1.2em;}#sk-container-id-9 div.sk-label-container {text-align: center;}#sk-container-id-9 div.sk-container {/* jupyter's `normalize.less` sets `[hidden] { display: none; }` but bootstrap.min.css set `[hidden] { display: none !important; }` so we also need the `!important` here to be able to override the default hidden behavior on the sphinx rendered scikit-learn.org. See: https://github.com/scikit-learn/scikit-learn/issues/21755 */display: inline-block !important;position: relative;}#sk-container-id-9 div.sk-text-repr-fallback {display: none;}</style><div id=\"sk-container-id-9\" class=\"sk-top-container\"><div class=\"sk-text-repr-fallback\"><pre>LogisticRegression()</pre><b>In a Jupyter environment, please rerun this cell to show the HTML representation or trust the notebook. <br />On GitHub, the HTML representation is unable to render, please try loading this page with nbviewer.org.</b></div><div class=\"sk-container\" hidden><div class=\"sk-item\"><div class=\"sk-estimator sk-toggleable\"><input class=\"sk-toggleable__control sk-hidden--visually\" id=\"sk-estimator-id-9\" type=\"checkbox\" checked><label for=\"sk-estimator-id-9\" class=\"sk-toggleable__label sk-toggleable__label-arrow\">LogisticRegression</label><div class=\"sk-toggleable__content\"><pre>LogisticRegression()</pre></div></div></div></div></div>"
      ],
      "text/plain": [
       "LogisticRegression()"
      ]
     },
     "execution_count": 109,
     "metadata": {},
     "output_type": "execute_result"
    }
   ],
   "source": [
    "log.fit(X_train, y_train)"
   ]
  },
  {
   "cell_type": "code",
   "execution_count": 110,
   "id": "68d2b44a",
   "metadata": {},
   "outputs": [],
   "source": [
    "# Make predictions on the test set\n",
    "y_pred = log.predict(X_test)"
   ]
  },
  {
   "cell_type": "code",
   "execution_count": 111,
   "id": "ac042e9e",
   "metadata": {},
   "outputs": [
    {
     "name": "stdout",
     "output_type": "stream",
     "text": [
      "Accuracy: 0.99\n"
     ]
    }
   ],
   "source": [
    "# Calculate the accuracy between the data\n",
    "accuracy = accuracy_score(y_test, y_pred)\n",
    "print(f\"Accuracy: {accuracy:.2f}\")"
   ]
  },
  {
   "cell_type": "code",
   "execution_count": 112,
   "id": "ad8dd1eb",
   "metadata": {},
   "outputs": [
    {
     "name": "stdout",
     "output_type": "stream",
     "text": [
      "Classification Report:\n",
      "              precision    recall  f1-score   support\n",
      "\n",
      "       False       0.99      0.99      0.99      5363\n",
      "        True       0.99      0.99      0.99      5363\n",
      "\n",
      "    accuracy                           0.99     10726\n",
      "   macro avg       0.99      0.99      0.99     10726\n",
      "weighted avg       0.99      0.99      0.99     10726\n",
      "\n"
     ]
    }
   ],
   "source": [
    "# Display classification report\n",
    "print(\"Classification Report:\")\n",
    "print(classification_report(y_test, y_pred))"
   ]
  },
  {
   "cell_type": "code",
   "execution_count": 113,
   "id": "0a997cf7",
   "metadata": {},
   "outputs": [
    {
     "name": "stdout",
     "output_type": "stream",
     "text": [
      "Confusion Matrix:\n",
      "[[5307   56]\n",
      " [  49 5314]]\n"
     ]
    }
   ],
   "source": [
    "#Display confusion matrix\n",
    "print(\"Confusion Matrix:\")\n",
    "print(confusion_matrix(y_test, y_pred))"
   ]
  },
  {
   "cell_type": "code",
   "execution_count": 114,
   "id": "c3d703e9",
   "metadata": {},
   "outputs": [
    {
     "data": {
      "text/html": [
       "<div>\n",
       "<style scoped>\n",
       "    .dataframe tbody tr th:only-of-type {\n",
       "        vertical-align: middle;\n",
       "    }\n",
       "\n",
       "    .dataframe tbody tr th {\n",
       "        vertical-align: top;\n",
       "    }\n",
       "\n",
       "    .dataframe thead th {\n",
       "        text-align: right;\n",
       "    }\n",
       "</style>\n",
       "<table border=\"1\" class=\"dataframe\">\n",
       "  <thead>\n",
       "    <tr style=\"text-align: right;\">\n",
       "      <th></th>\n",
       "      <th>symbol</th>\n",
       "      <th>exchange</th>\n",
       "      <th>date</th>\n",
       "      <th>adjusted close</th>\n",
       "      <th>option symbol</th>\n",
       "      <th>expiration</th>\n",
       "      <th>strike</th>\n",
       "      <th>call/put</th>\n",
       "      <th>style</th>\n",
       "      <th>ask</th>\n",
       "      <th>...</th>\n",
       "      <th>volume</th>\n",
       "      <th>open interest</th>\n",
       "      <th>stock price for iv</th>\n",
       "      <th>*</th>\n",
       "      <th>delta</th>\n",
       "      <th>vega</th>\n",
       "      <th>gamma</th>\n",
       "      <th>theta</th>\n",
       "      <th>rho</th>\n",
       "      <th>date_difference</th>\n",
       "    </tr>\n",
       "  </thead>\n",
       "  <tbody>\n",
       "    <tr>\n",
       "      <th>0</th>\n",
       "      <td>SPY</td>\n",
       "      <td>NYSEArca</td>\n",
       "      <td>2021-07-30</td>\n",
       "      <td>438.51</td>\n",
       "      <td>SPY   210730C00215000</td>\n",
       "      <td>2021-07-30</td>\n",
       "      <td>215.0</td>\n",
       "      <td>False</td>\n",
       "      <td>A</td>\n",
       "      <td>224.56</td>\n",
       "      <td>...</td>\n",
       "      <td>0</td>\n",
       "      <td>0</td>\n",
       "      <td>438.97</td>\n",
       "      <td>NaN</td>\n",
       "      <td>0.0</td>\n",
       "      <td>0.0</td>\n",
       "      <td>0.0</td>\n",
       "      <td>0.0</td>\n",
       "      <td>0.0</td>\n",
       "      <td>0.0</td>\n",
       "    </tr>\n",
       "    <tr>\n",
       "      <th>1</th>\n",
       "      <td>SPY</td>\n",
       "      <td>NYSEArca</td>\n",
       "      <td>2021-07-30</td>\n",
       "      <td>438.51</td>\n",
       "      <td>SPY   210730P00215000</td>\n",
       "      <td>2021-07-30</td>\n",
       "      <td>215.0</td>\n",
       "      <td>True</td>\n",
       "      <td>A</td>\n",
       "      <td>0.01</td>\n",
       "      <td>...</td>\n",
       "      <td>0</td>\n",
       "      <td>1401</td>\n",
       "      <td>438.97</td>\n",
       "      <td>NaN</td>\n",
       "      <td>0.0</td>\n",
       "      <td>0.0</td>\n",
       "      <td>0.0</td>\n",
       "      <td>0.0</td>\n",
       "      <td>0.0</td>\n",
       "      <td>0.0</td>\n",
       "    </tr>\n",
       "    <tr>\n",
       "      <th>2</th>\n",
       "      <td>SPY</td>\n",
       "      <td>NYSEArca</td>\n",
       "      <td>2021-07-30</td>\n",
       "      <td>438.51</td>\n",
       "      <td>SPY   210730C00220000</td>\n",
       "      <td>2021-07-30</td>\n",
       "      <td>220.0</td>\n",
       "      <td>False</td>\n",
       "      <td>A</td>\n",
       "      <td>219.56</td>\n",
       "      <td>...</td>\n",
       "      <td>0</td>\n",
       "      <td>1</td>\n",
       "      <td>438.97</td>\n",
       "      <td>NaN</td>\n",
       "      <td>0.0</td>\n",
       "      <td>0.0</td>\n",
       "      <td>0.0</td>\n",
       "      <td>0.0</td>\n",
       "      <td>0.0</td>\n",
       "      <td>0.0</td>\n",
       "    </tr>\n",
       "    <tr>\n",
       "      <th>3</th>\n",
       "      <td>SPY</td>\n",
       "      <td>NYSEArca</td>\n",
       "      <td>2021-07-30</td>\n",
       "      <td>438.51</td>\n",
       "      <td>SPY   210730P00220000</td>\n",
       "      <td>2021-07-30</td>\n",
       "      <td>220.0</td>\n",
       "      <td>True</td>\n",
       "      <td>A</td>\n",
       "      <td>0.01</td>\n",
       "      <td>...</td>\n",
       "      <td>50</td>\n",
       "      <td>328</td>\n",
       "      <td>438.97</td>\n",
       "      <td>NaN</td>\n",
       "      <td>0.0</td>\n",
       "      <td>0.0</td>\n",
       "      <td>0.0</td>\n",
       "      <td>0.0</td>\n",
       "      <td>0.0</td>\n",
       "      <td>0.0</td>\n",
       "    </tr>\n",
       "    <tr>\n",
       "      <th>4</th>\n",
       "      <td>SPY</td>\n",
       "      <td>NYSEArca</td>\n",
       "      <td>2021-07-30</td>\n",
       "      <td>438.51</td>\n",
       "      <td>SPY   210730C00225000</td>\n",
       "      <td>2021-07-30</td>\n",
       "      <td>225.0</td>\n",
       "      <td>False</td>\n",
       "      <td>A</td>\n",
       "      <td>214.56</td>\n",
       "      <td>...</td>\n",
       "      <td>0</td>\n",
       "      <td>0</td>\n",
       "      <td>438.97</td>\n",
       "      <td>NaN</td>\n",
       "      <td>0.0</td>\n",
       "      <td>0.0</td>\n",
       "      <td>0.0</td>\n",
       "      <td>0.0</td>\n",
       "      <td>0.0</td>\n",
       "      <td>0.0</td>\n",
       "    </tr>\n",
       "  </tbody>\n",
       "</table>\n",
       "<p>5 rows × 23 columns</p>\n",
       "</div>"
      ],
      "text/plain": [
       "  symbol  exchange       date  adjusted close          option symbol  \\\n",
       "0    SPY  NYSEArca 2021-07-30          438.51  SPY   210730C00215000   \n",
       "1    SPY  NYSEArca 2021-07-30          438.51  SPY   210730P00215000   \n",
       "2    SPY  NYSEArca 2021-07-30          438.51  SPY   210730C00220000   \n",
       "3    SPY  NYSEArca 2021-07-30          438.51  SPY   210730P00220000   \n",
       "4    SPY  NYSEArca 2021-07-30          438.51  SPY   210730C00225000   \n",
       "\n",
       "  expiration  strike  call/put style     ask  ...  volume  open interest  \\\n",
       "0 2021-07-30   215.0     False     A  224.56  ...       0              0   \n",
       "1 2021-07-30   215.0      True     A    0.01  ...       0           1401   \n",
       "2 2021-07-30   220.0     False     A  219.56  ...       0              1   \n",
       "3 2021-07-30   220.0      True     A    0.01  ...      50            328   \n",
       "4 2021-07-30   225.0     False     A  214.56  ...       0              0   \n",
       "\n",
       "   stock price for iv    *  delta  vega gamma  theta  rho  date_difference  \n",
       "0              438.97  NaN    0.0   0.0   0.0    0.0  0.0              0.0  \n",
       "1              438.97  NaN    0.0   0.0   0.0    0.0  0.0              0.0  \n",
       "2              438.97  NaN    0.0   0.0   0.0    0.0  0.0              0.0  \n",
       "3              438.97  NaN    0.0   0.0   0.0    0.0  0.0              0.0  \n",
       "4              438.97  NaN    0.0   0.0   0.0    0.0  0.0              0.0  \n",
       "\n",
       "[5 rows x 23 columns]"
      ]
     },
     "execution_count": 114,
     "metadata": {},
     "output_type": "execute_result"
    }
   ],
   "source": [
    "data.head()"
   ]
  },
  {
   "cell_type": "markdown",
   "id": "01a7b01e",
   "metadata": {},
   "source": [
    "## scaling\n"
   ]
  },
  {
   "cell_type": "code",
   "execution_count": 115,
   "id": "ecce7f69",
   "metadata": {},
   "outputs": [],
   "source": [
    "from sklearn.preprocessing import StandardScaler\n",
    "scaler=StandardScaler()\n",
    "X_train_standardized_data = scaler.fit_transform(X_train)\n",
    "X_test_standardized_data = scaler.fit_transform(X_test)\n"
   ]
  },
  {
   "cell_type": "code",
   "execution_count": 116,
   "id": "885943cd",
   "metadata": {},
   "outputs": [
    {
     "data": {
      "text/plain": [
       "array([[ 1.47776493, -1.95739648,  3.03699177, ..., -0.60879907,\n",
       "         1.04791922,  0.04256736],\n",
       "       [ 1.47776493, -1.95739648, -0.6887474 , ..., -0.60879907,\n",
       "         1.04791922,  0.03916043],\n",
       "       [ 1.47776493, -1.90406338,  2.95436282, ..., -0.60879907,\n",
       "         1.04791922,  0.04264661],\n",
       "       ...,\n",
       "       [-1.1555294 ,  2.52258415,  2.80629175, ..., -0.4943648 ,\n",
       "         0.78142759, -8.64540815],\n",
       "       [-1.1555294 ,  2.57591725, -0.64379725, ..., -0.50045058,\n",
       "         0.91909353,  0.30753484],\n",
       "       [-1.1555294 ,  2.57591725,  2.8889207 , ..., -0.50045058,\n",
       "         0.78945296, -8.73502555]])"
      ]
     },
     "execution_count": 116,
     "metadata": {},
     "output_type": "execute_result"
    }
   ],
   "source": [
    "X_train_standardized_data"
   ]
  },
  {
   "cell_type": "code",
   "execution_count": 117,
   "id": "1111035a",
   "metadata": {
    "scrolled": true
   },
   "outputs": [
    {
     "name": "stderr",
     "output_type": "stream",
     "text": [
      "C:\\Users\\91951\\anaconda3\\lib\\site-packages\\sklearn\\linear_model\\_logistic.py:460: ConvergenceWarning: lbfgs failed to converge (status=1):\n",
      "STOP: TOTAL NO. of ITERATIONS REACHED LIMIT.\n",
      "\n",
      "Increase the number of iterations (max_iter) or scale the data as shown in:\n",
      "    https://scikit-learn.org/stable/modules/preprocessing.html\n",
      "Please also refer to the documentation for alternative solver options:\n",
      "    https://scikit-learn.org/stable/modules/linear_model.html#logistic-regression\n",
      "  n_iter_i = _check_optimize_result(\n"
     ]
    },
    {
     "data": {
      "text/html": [
       "<style>#sk-container-id-10 {color: black;}#sk-container-id-10 pre{padding: 0;}#sk-container-id-10 div.sk-toggleable {background-color: white;}#sk-container-id-10 label.sk-toggleable__label {cursor: pointer;display: block;width: 100%;margin-bottom: 0;padding: 0.3em;box-sizing: border-box;text-align: center;}#sk-container-id-10 label.sk-toggleable__label-arrow:before {content: \"▸\";float: left;margin-right: 0.25em;color: #696969;}#sk-container-id-10 label.sk-toggleable__label-arrow:hover:before {color: black;}#sk-container-id-10 div.sk-estimator:hover label.sk-toggleable__label-arrow:before {color: black;}#sk-container-id-10 div.sk-toggleable__content {max-height: 0;max-width: 0;overflow: hidden;text-align: left;background-color: #f0f8ff;}#sk-container-id-10 div.sk-toggleable__content pre {margin: 0.2em;color: black;border-radius: 0.25em;background-color: #f0f8ff;}#sk-container-id-10 input.sk-toggleable__control:checked~div.sk-toggleable__content {max-height: 200px;max-width: 100%;overflow: auto;}#sk-container-id-10 input.sk-toggleable__control:checked~label.sk-toggleable__label-arrow:before {content: \"▾\";}#sk-container-id-10 div.sk-estimator input.sk-toggleable__control:checked~label.sk-toggleable__label {background-color: #d4ebff;}#sk-container-id-10 div.sk-label input.sk-toggleable__control:checked~label.sk-toggleable__label {background-color: #d4ebff;}#sk-container-id-10 input.sk-hidden--visually {border: 0;clip: rect(1px 1px 1px 1px);clip: rect(1px, 1px, 1px, 1px);height: 1px;margin: -1px;overflow: hidden;padding: 0;position: absolute;width: 1px;}#sk-container-id-10 div.sk-estimator {font-family: monospace;background-color: #f0f8ff;border: 1px dotted black;border-radius: 0.25em;box-sizing: border-box;margin-bottom: 0.5em;}#sk-container-id-10 div.sk-estimator:hover {background-color: #d4ebff;}#sk-container-id-10 div.sk-parallel-item::after {content: \"\";width: 100%;border-bottom: 1px solid gray;flex-grow: 1;}#sk-container-id-10 div.sk-label:hover label.sk-toggleable__label {background-color: #d4ebff;}#sk-container-id-10 div.sk-serial::before {content: \"\";position: absolute;border-left: 1px solid gray;box-sizing: border-box;top: 0;bottom: 0;left: 50%;z-index: 0;}#sk-container-id-10 div.sk-serial {display: flex;flex-direction: column;align-items: center;background-color: white;padding-right: 0.2em;padding-left: 0.2em;position: relative;}#sk-container-id-10 div.sk-item {position: relative;z-index: 1;}#sk-container-id-10 div.sk-parallel {display: flex;align-items: stretch;justify-content: center;background-color: white;position: relative;}#sk-container-id-10 div.sk-item::before, #sk-container-id-10 div.sk-parallel-item::before {content: \"\";position: absolute;border-left: 1px solid gray;box-sizing: border-box;top: 0;bottom: 0;left: 50%;z-index: -1;}#sk-container-id-10 div.sk-parallel-item {display: flex;flex-direction: column;z-index: 1;position: relative;background-color: white;}#sk-container-id-10 div.sk-parallel-item:first-child::after {align-self: flex-end;width: 50%;}#sk-container-id-10 div.sk-parallel-item:last-child::after {align-self: flex-start;width: 50%;}#sk-container-id-10 div.sk-parallel-item:only-child::after {width: 0;}#sk-container-id-10 div.sk-dashed-wrapped {border: 1px dashed gray;margin: 0 0.4em 0.5em 0.4em;box-sizing: border-box;padding-bottom: 0.4em;background-color: white;}#sk-container-id-10 div.sk-label label {font-family: monospace;font-weight: bold;display: inline-block;line-height: 1.2em;}#sk-container-id-10 div.sk-label-container {text-align: center;}#sk-container-id-10 div.sk-container {/* jupyter's `normalize.less` sets `[hidden] { display: none; }` but bootstrap.min.css set `[hidden] { display: none !important; }` so we also need the `!important` here to be able to override the default hidden behavior on the sphinx rendered scikit-learn.org. See: https://github.com/scikit-learn/scikit-learn/issues/21755 */display: inline-block !important;position: relative;}#sk-container-id-10 div.sk-text-repr-fallback {display: none;}</style><div id=\"sk-container-id-10\" class=\"sk-top-container\"><div class=\"sk-text-repr-fallback\"><pre>LogisticRegression()</pre><b>In a Jupyter environment, please rerun this cell to show the HTML representation or trust the notebook. <br />On GitHub, the HTML representation is unable to render, please try loading this page with nbviewer.org.</b></div><div class=\"sk-container\" hidden><div class=\"sk-item\"><div class=\"sk-estimator sk-toggleable\"><input class=\"sk-toggleable__control sk-hidden--visually\" id=\"sk-estimator-id-10\" type=\"checkbox\" checked><label for=\"sk-estimator-id-10\" class=\"sk-toggleable__label sk-toggleable__label-arrow\">LogisticRegression</label><div class=\"sk-toggleable__content\"><pre>LogisticRegression()</pre></div></div></div></div></div>"
      ],
      "text/plain": [
       "LogisticRegression()"
      ]
     },
     "execution_count": 117,
     "metadata": {},
     "output_type": "execute_result"
    }
   ],
   "source": [
    "log.fit(X_train_standardized_data, y_train)"
   ]
  },
  {
   "cell_type": "code",
   "execution_count": 118,
   "id": "8976212c",
   "metadata": {},
   "outputs": [],
   "source": [
    "# Make predictions on the test set\n",
    "y_pred = log.predict(X_test_standardized_data)"
   ]
  },
  {
   "cell_type": "code",
   "execution_count": 119,
   "id": "dce67e8c",
   "metadata": {},
   "outputs": [
    {
     "name": "stdout",
     "output_type": "stream",
     "text": [
      "Accuracy: 0.99\n"
     ]
    }
   ],
   "source": [
    "accuracy = accuracy_score(y_test, y_pred)\n",
    "print(f\"Accuracy: {accuracy:.2f}\")"
   ]
  },
  {
   "cell_type": "code",
   "execution_count": 120,
   "id": "7d6f5188",
   "metadata": {},
   "outputs": [
    {
     "name": "stdout",
     "output_type": "stream",
     "text": [
      "Classification Report:\n",
      "              precision    recall  f1-score   support\n",
      "\n",
      "       False       0.99      1.00      0.99      5363\n",
      "        True       1.00      0.99      0.99      5363\n",
      "\n",
      "    accuracy                           0.99     10726\n",
      "   macro avg       1.00      0.99      0.99     10726\n",
      "weighted avg       1.00      0.99      0.99     10726\n",
      "\n"
     ]
    }
   ],
   "source": [
    "print(\"Classification Report:\")\n",
    "print(classification_report(y_test, y_pred))"
   ]
  },
  {
   "cell_type": "code",
   "execution_count": 121,
   "id": "b8da608d",
   "metadata": {},
   "outputs": [
    {
     "name": "stdout",
     "output_type": "stream",
     "text": [
      "Confusion Matrix:\n",
      "[[5362    1]\n",
      " [  53 5310]]\n"
     ]
    }
   ],
   "source": [
    "#Display confusion matrix\n",
    "print(\"Confusion Matrix:\")\n",
    "print(confusion_matrix(y_test, y_pred))"
   ]
  },
  {
   "cell_type": "markdown",
   "id": "b4407fc8",
   "metadata": {},
   "source": [
    "## adding the feature "
   ]
  },
  {
   "cell_type": "code",
   "execution_count": 122,
   "id": "ec5af8c5",
   "metadata": {},
   "outputs": [
    {
     "data": {
      "text/html": [
       "<div>\n",
       "<style scoped>\n",
       "    .dataframe tbody tr th:only-of-type {\n",
       "        vertical-align: middle;\n",
       "    }\n",
       "\n",
       "    .dataframe tbody tr th {\n",
       "        vertical-align: top;\n",
       "    }\n",
       "\n",
       "    .dataframe thead th {\n",
       "        text-align: right;\n",
       "    }\n",
       "</style>\n",
       "<table border=\"1\" class=\"dataframe\">\n",
       "  <thead>\n",
       "    <tr style=\"text-align: right;\">\n",
       "      <th></th>\n",
       "      <th>symbol</th>\n",
       "      <th>exchange</th>\n",
       "      <th>date</th>\n",
       "      <th>adjusted close</th>\n",
       "      <th>option symbol</th>\n",
       "      <th>expiration</th>\n",
       "      <th>strike</th>\n",
       "      <th>call/put</th>\n",
       "      <th>style</th>\n",
       "      <th>ask</th>\n",
       "      <th>...</th>\n",
       "      <th>volume</th>\n",
       "      <th>open interest</th>\n",
       "      <th>stock price for iv</th>\n",
       "      <th>*</th>\n",
       "      <th>delta</th>\n",
       "      <th>vega</th>\n",
       "      <th>gamma</th>\n",
       "      <th>theta</th>\n",
       "      <th>rho</th>\n",
       "      <th>date_difference</th>\n",
       "    </tr>\n",
       "  </thead>\n",
       "  <tbody>\n",
       "    <tr>\n",
       "      <th>0</th>\n",
       "      <td>SPY</td>\n",
       "      <td>NYSEArca</td>\n",
       "      <td>2021-07-30</td>\n",
       "      <td>438.51</td>\n",
       "      <td>SPY   210730C00215000</td>\n",
       "      <td>2021-07-30</td>\n",
       "      <td>215.0</td>\n",
       "      <td>False</td>\n",
       "      <td>A</td>\n",
       "      <td>224.56</td>\n",
       "      <td>...</td>\n",
       "      <td>0</td>\n",
       "      <td>0</td>\n",
       "      <td>438.97</td>\n",
       "      <td>NaN</td>\n",
       "      <td>0.0</td>\n",
       "      <td>0.0</td>\n",
       "      <td>0.0</td>\n",
       "      <td>0.0</td>\n",
       "      <td>0.0</td>\n",
       "      <td>0.0</td>\n",
       "    </tr>\n",
       "    <tr>\n",
       "      <th>1</th>\n",
       "      <td>SPY</td>\n",
       "      <td>NYSEArca</td>\n",
       "      <td>2021-07-30</td>\n",
       "      <td>438.51</td>\n",
       "      <td>SPY   210730P00215000</td>\n",
       "      <td>2021-07-30</td>\n",
       "      <td>215.0</td>\n",
       "      <td>True</td>\n",
       "      <td>A</td>\n",
       "      <td>0.01</td>\n",
       "      <td>...</td>\n",
       "      <td>0</td>\n",
       "      <td>1401</td>\n",
       "      <td>438.97</td>\n",
       "      <td>NaN</td>\n",
       "      <td>0.0</td>\n",
       "      <td>0.0</td>\n",
       "      <td>0.0</td>\n",
       "      <td>0.0</td>\n",
       "      <td>0.0</td>\n",
       "      <td>0.0</td>\n",
       "    </tr>\n",
       "    <tr>\n",
       "      <th>2</th>\n",
       "      <td>SPY</td>\n",
       "      <td>NYSEArca</td>\n",
       "      <td>2021-07-30</td>\n",
       "      <td>438.51</td>\n",
       "      <td>SPY   210730C00220000</td>\n",
       "      <td>2021-07-30</td>\n",
       "      <td>220.0</td>\n",
       "      <td>False</td>\n",
       "      <td>A</td>\n",
       "      <td>219.56</td>\n",
       "      <td>...</td>\n",
       "      <td>0</td>\n",
       "      <td>1</td>\n",
       "      <td>438.97</td>\n",
       "      <td>NaN</td>\n",
       "      <td>0.0</td>\n",
       "      <td>0.0</td>\n",
       "      <td>0.0</td>\n",
       "      <td>0.0</td>\n",
       "      <td>0.0</td>\n",
       "      <td>0.0</td>\n",
       "    </tr>\n",
       "    <tr>\n",
       "      <th>3</th>\n",
       "      <td>SPY</td>\n",
       "      <td>NYSEArca</td>\n",
       "      <td>2021-07-30</td>\n",
       "      <td>438.51</td>\n",
       "      <td>SPY   210730P00220000</td>\n",
       "      <td>2021-07-30</td>\n",
       "      <td>220.0</td>\n",
       "      <td>True</td>\n",
       "      <td>A</td>\n",
       "      <td>0.01</td>\n",
       "      <td>...</td>\n",
       "      <td>50</td>\n",
       "      <td>328</td>\n",
       "      <td>438.97</td>\n",
       "      <td>NaN</td>\n",
       "      <td>0.0</td>\n",
       "      <td>0.0</td>\n",
       "      <td>0.0</td>\n",
       "      <td>0.0</td>\n",
       "      <td>0.0</td>\n",
       "      <td>0.0</td>\n",
       "    </tr>\n",
       "    <tr>\n",
       "      <th>4</th>\n",
       "      <td>SPY</td>\n",
       "      <td>NYSEArca</td>\n",
       "      <td>2021-07-30</td>\n",
       "      <td>438.51</td>\n",
       "      <td>SPY   210730C00225000</td>\n",
       "      <td>2021-07-30</td>\n",
       "      <td>225.0</td>\n",
       "      <td>False</td>\n",
       "      <td>A</td>\n",
       "      <td>214.56</td>\n",
       "      <td>...</td>\n",
       "      <td>0</td>\n",
       "      <td>0</td>\n",
       "      <td>438.97</td>\n",
       "      <td>NaN</td>\n",
       "      <td>0.0</td>\n",
       "      <td>0.0</td>\n",
       "      <td>0.0</td>\n",
       "      <td>0.0</td>\n",
       "      <td>0.0</td>\n",
       "      <td>0.0</td>\n",
       "    </tr>\n",
       "  </tbody>\n",
       "</table>\n",
       "<p>5 rows × 23 columns</p>\n",
       "</div>"
      ],
      "text/plain": [
       "  symbol  exchange       date  adjusted close          option symbol  \\\n",
       "0    SPY  NYSEArca 2021-07-30          438.51  SPY   210730C00215000   \n",
       "1    SPY  NYSEArca 2021-07-30          438.51  SPY   210730P00215000   \n",
       "2    SPY  NYSEArca 2021-07-30          438.51  SPY   210730C00220000   \n",
       "3    SPY  NYSEArca 2021-07-30          438.51  SPY   210730P00220000   \n",
       "4    SPY  NYSEArca 2021-07-30          438.51  SPY   210730C00225000   \n",
       "\n",
       "  expiration  strike  call/put style     ask  ...  volume  open interest  \\\n",
       "0 2021-07-30   215.0     False     A  224.56  ...       0              0   \n",
       "1 2021-07-30   215.0      True     A    0.01  ...       0           1401   \n",
       "2 2021-07-30   220.0     False     A  219.56  ...       0              1   \n",
       "3 2021-07-30   220.0      True     A    0.01  ...      50            328   \n",
       "4 2021-07-30   225.0     False     A  214.56  ...       0              0   \n",
       "\n",
       "   stock price for iv    *  delta  vega gamma  theta  rho  date_difference  \n",
       "0              438.97  NaN    0.0   0.0   0.0    0.0  0.0              0.0  \n",
       "1              438.97  NaN    0.0   0.0   0.0    0.0  0.0              0.0  \n",
       "2              438.97  NaN    0.0   0.0   0.0    0.0  0.0              0.0  \n",
       "3              438.97  NaN    0.0   0.0   0.0    0.0  0.0              0.0  \n",
       "4              438.97  NaN    0.0   0.0   0.0    0.0  0.0              0.0  \n",
       "\n",
       "[5 rows x 23 columns]"
      ]
     },
     "execution_count": 122,
     "metadata": {},
     "output_type": "execute_result"
    }
   ],
   "source": [
    "data.head()"
   ]
  },
  {
   "cell_type": "code",
   "execution_count": 123,
   "id": "fbcc18eb",
   "metadata": {},
   "outputs": [
    {
     "data": {
      "text/plain": [
       "Index(['symbol', 'exchange', 'date', 'adjusted close', 'option symbol',\n",
       "       'expiration', 'strike', 'call/put', 'style', 'ask', 'bid', 'mean price',\n",
       "       'iv', 'volume', 'open interest', 'stock price for iv', '*', 'delta',\n",
       "       'vega', 'gamma', 'theta', 'rho', 'date_difference'],\n",
       "      dtype='object')"
      ]
     },
     "execution_count": 123,
     "metadata": {},
     "output_type": "execute_result"
    }
   ],
   "source": [
    "data.columns"
   ]
  },
  {
   "cell_type": "code",
   "execution_count": 124,
   "id": "97544c2e",
   "metadata": {},
   "outputs": [
    {
     "data": {
      "text/plain": [
       "count    221046.000000\n",
       "mean        435.089149\n",
       "std           3.863763\n",
       "min         424.970000\n",
       "25%         432.930000\n",
       "50%         435.460000\n",
       "75%         438.510000\n",
       "max         441.020000\n",
       "Name: adjusted close, dtype: float64"
      ]
     },
     "execution_count": 124,
     "metadata": {},
     "output_type": "execute_result"
    }
   ],
   "source": [
    "data['adjusted close'].describe()"
   ]
  },
  {
   "cell_type": "code",
   "execution_count": 136,
   "id": "ef2c33dc",
   "metadata": {},
   "outputs": [],
   "source": [
    "from datetime import datetime\n",
    "date_format = '%m/%d%Y'\n",
    "data['date'] = pd.to_datetime(data['date'], format=date_format)\n",
    "data['expiration'] = pd.to_datetime(data['expiration'], format=date_format)\n",
    "data['date_difference'] = (data['expiration'] - data['date']).dt.days"
   ]
  },
  {
   "cell_type": "code",
   "execution_count": 137,
   "id": "5a28d707",
   "metadata": {},
   "outputs": [
    {
     "data": {
      "text/plain": [
       "count    221046.000000\n",
       "mean        163.923301\n",
       "std         196.728419\n",
       "min           0.000000\n",
       "25%          22.000000\n",
       "50%          84.000000\n",
       "75%         231.000000\n",
       "max         897.000000\n",
       "Name: date_difference, dtype: float64"
      ]
     },
     "execution_count": 137,
     "metadata": {},
     "output_type": "execute_result"
    }
   ],
   "source": [
    "data['date_difference'].describe()"
   ]
  },
  {
   "cell_type": "code",
   "execution_count": 138,
   "id": "f523c3f5",
   "metadata": {},
   "outputs": [
    {
     "data": {
      "text/html": [
       "<div>\n",
       "<style scoped>\n",
       "    .dataframe tbody tr th:only-of-type {\n",
       "        vertical-align: middle;\n",
       "    }\n",
       "\n",
       "    .dataframe tbody tr th {\n",
       "        vertical-align: top;\n",
       "    }\n",
       "\n",
       "    .dataframe thead th {\n",
       "        text-align: right;\n",
       "    }\n",
       "</style>\n",
       "<table border=\"1\" class=\"dataframe\">\n",
       "  <thead>\n",
       "    <tr style=\"text-align: right;\">\n",
       "      <th></th>\n",
       "      <th>symbol</th>\n",
       "      <th>exchange</th>\n",
       "      <th>date</th>\n",
       "      <th>adjusted close</th>\n",
       "      <th>option symbol</th>\n",
       "      <th>expiration</th>\n",
       "      <th>strike</th>\n",
       "      <th>call/put</th>\n",
       "      <th>style</th>\n",
       "      <th>ask</th>\n",
       "      <th>...</th>\n",
       "      <th>volume</th>\n",
       "      <th>open interest</th>\n",
       "      <th>stock price for iv</th>\n",
       "      <th>*</th>\n",
       "      <th>delta</th>\n",
       "      <th>vega</th>\n",
       "      <th>gamma</th>\n",
       "      <th>theta</th>\n",
       "      <th>rho</th>\n",
       "      <th>date_difference</th>\n",
       "    </tr>\n",
       "  </thead>\n",
       "  <tbody>\n",
       "    <tr>\n",
       "      <th>0</th>\n",
       "      <td>SPY</td>\n",
       "      <td>NYSEArca</td>\n",
       "      <td>2021-07-30</td>\n",
       "      <td>438.51</td>\n",
       "      <td>SPY   210730C00215000</td>\n",
       "      <td>2021-07-30</td>\n",
       "      <td>215.0</td>\n",
       "      <td>False</td>\n",
       "      <td>A</td>\n",
       "      <td>224.56</td>\n",
       "      <td>...</td>\n",
       "      <td>0</td>\n",
       "      <td>0</td>\n",
       "      <td>438.97</td>\n",
       "      <td>NaN</td>\n",
       "      <td>0.0</td>\n",
       "      <td>0.0</td>\n",
       "      <td>0.0</td>\n",
       "      <td>0.0</td>\n",
       "      <td>0.0</td>\n",
       "      <td>0</td>\n",
       "    </tr>\n",
       "    <tr>\n",
       "      <th>1</th>\n",
       "      <td>SPY</td>\n",
       "      <td>NYSEArca</td>\n",
       "      <td>2021-07-30</td>\n",
       "      <td>438.51</td>\n",
       "      <td>SPY   210730P00215000</td>\n",
       "      <td>2021-07-30</td>\n",
       "      <td>215.0</td>\n",
       "      <td>True</td>\n",
       "      <td>A</td>\n",
       "      <td>0.01</td>\n",
       "      <td>...</td>\n",
       "      <td>0</td>\n",
       "      <td>1401</td>\n",
       "      <td>438.97</td>\n",
       "      <td>NaN</td>\n",
       "      <td>0.0</td>\n",
       "      <td>0.0</td>\n",
       "      <td>0.0</td>\n",
       "      <td>0.0</td>\n",
       "      <td>0.0</td>\n",
       "      <td>0</td>\n",
       "    </tr>\n",
       "    <tr>\n",
       "      <th>2</th>\n",
       "      <td>SPY</td>\n",
       "      <td>NYSEArca</td>\n",
       "      <td>2021-07-30</td>\n",
       "      <td>438.51</td>\n",
       "      <td>SPY   210730C00220000</td>\n",
       "      <td>2021-07-30</td>\n",
       "      <td>220.0</td>\n",
       "      <td>False</td>\n",
       "      <td>A</td>\n",
       "      <td>219.56</td>\n",
       "      <td>...</td>\n",
       "      <td>0</td>\n",
       "      <td>1</td>\n",
       "      <td>438.97</td>\n",
       "      <td>NaN</td>\n",
       "      <td>0.0</td>\n",
       "      <td>0.0</td>\n",
       "      <td>0.0</td>\n",
       "      <td>0.0</td>\n",
       "      <td>0.0</td>\n",
       "      <td>0</td>\n",
       "    </tr>\n",
       "    <tr>\n",
       "      <th>3</th>\n",
       "      <td>SPY</td>\n",
       "      <td>NYSEArca</td>\n",
       "      <td>2021-07-30</td>\n",
       "      <td>438.51</td>\n",
       "      <td>SPY   210730P00220000</td>\n",
       "      <td>2021-07-30</td>\n",
       "      <td>220.0</td>\n",
       "      <td>True</td>\n",
       "      <td>A</td>\n",
       "      <td>0.01</td>\n",
       "      <td>...</td>\n",
       "      <td>50</td>\n",
       "      <td>328</td>\n",
       "      <td>438.97</td>\n",
       "      <td>NaN</td>\n",
       "      <td>0.0</td>\n",
       "      <td>0.0</td>\n",
       "      <td>0.0</td>\n",
       "      <td>0.0</td>\n",
       "      <td>0.0</td>\n",
       "      <td>0</td>\n",
       "    </tr>\n",
       "    <tr>\n",
       "      <th>4</th>\n",
       "      <td>SPY</td>\n",
       "      <td>NYSEArca</td>\n",
       "      <td>2021-07-30</td>\n",
       "      <td>438.51</td>\n",
       "      <td>SPY   210730C00225000</td>\n",
       "      <td>2021-07-30</td>\n",
       "      <td>225.0</td>\n",
       "      <td>False</td>\n",
       "      <td>A</td>\n",
       "      <td>214.56</td>\n",
       "      <td>...</td>\n",
       "      <td>0</td>\n",
       "      <td>0</td>\n",
       "      <td>438.97</td>\n",
       "      <td>NaN</td>\n",
       "      <td>0.0</td>\n",
       "      <td>0.0</td>\n",
       "      <td>0.0</td>\n",
       "      <td>0.0</td>\n",
       "      <td>0.0</td>\n",
       "      <td>0</td>\n",
       "    </tr>\n",
       "  </tbody>\n",
       "</table>\n",
       "<p>5 rows × 23 columns</p>\n",
       "</div>"
      ],
      "text/plain": [
       "  symbol  exchange       date  adjusted close          option symbol  \\\n",
       "0    SPY  NYSEArca 2021-07-30          438.51  SPY   210730C00215000   \n",
       "1    SPY  NYSEArca 2021-07-30          438.51  SPY   210730P00215000   \n",
       "2    SPY  NYSEArca 2021-07-30          438.51  SPY   210730C00220000   \n",
       "3    SPY  NYSEArca 2021-07-30          438.51  SPY   210730P00220000   \n",
       "4    SPY  NYSEArca 2021-07-30          438.51  SPY   210730C00225000   \n",
       "\n",
       "  expiration  strike  call/put style     ask  ...  volume  open interest  \\\n",
       "0 2021-07-30   215.0     False     A  224.56  ...       0              0   \n",
       "1 2021-07-30   215.0      True     A    0.01  ...       0           1401   \n",
       "2 2021-07-30   220.0     False     A  219.56  ...       0              1   \n",
       "3 2021-07-30   220.0      True     A    0.01  ...      50            328   \n",
       "4 2021-07-30   225.0     False     A  214.56  ...       0              0   \n",
       "\n",
       "   stock price for iv    *  delta  vega gamma  theta  rho  date_difference  \n",
       "0              438.97  NaN    0.0   0.0   0.0    0.0  0.0                0  \n",
       "1              438.97  NaN    0.0   0.0   0.0    0.0  0.0                0  \n",
       "2              438.97  NaN    0.0   0.0   0.0    0.0  0.0                0  \n",
       "3              438.97  NaN    0.0   0.0   0.0    0.0  0.0                0  \n",
       "4              438.97  NaN    0.0   0.0   0.0    0.0  0.0                0  \n",
       "\n",
       "[5 rows x 23 columns]"
      ]
     },
     "execution_count": 138,
     "metadata": {},
     "output_type": "execute_result"
    }
   ],
   "source": [
    "data.head()"
   ]
  },
  {
   "cell_type": "code",
   "execution_count": 139,
   "id": "f229dafd",
   "metadata": {},
   "outputs": [
    {
     "data": {
      "text/plain": [
       "Index(['symbol', 'exchange', 'date', 'adjusted close', 'option symbol',\n",
       "       'expiration', 'strike', 'call/put', 'style', 'ask', 'bid', 'mean price',\n",
       "       'iv', 'volume', 'open interest', 'stock price for iv', '*', 'delta',\n",
       "       'vega', 'gamma', 'theta', 'rho', 'date_difference'],\n",
       "      dtype='object')"
      ]
     },
     "execution_count": 139,
     "metadata": {},
     "output_type": "execute_result"
    }
   ],
   "source": [
    "data.columns"
   ]
  },
  {
   "cell_type": "code",
   "execution_count": 140,
   "id": "39f4f430",
   "metadata": {},
   "outputs": [],
   "source": [
    "filtered_data = data[['date','adjusted close', 'strike', 'call/put', 'ask', 'bid', 'mean price',\n",
    "       'iv', 'volume', 'open interest', 'stock price for iv', 'delta',\n",
    "       'vega', 'gamma', 'theta', 'rho','date_difference']]"
   ]
  },
  {
   "cell_type": "code",
   "execution_count": 141,
   "id": "803072b1",
   "metadata": {},
   "outputs": [],
   "source": [
    "#Selection of the date defined data\n",
    "filtered_train = filtered_data[filtered_data['date'] != '07/30/2021']\n",
    "filtered_test = filtered_data[filtered_data['date'] == '07/30/2021']"
   ]
  },
  {
   "cell_type": "code",
   "execution_count": 193,
   "id": "9c075d77",
   "metadata": {},
   "outputs": [],
   "source": [
    "features = ['adjusted close', 'strike', 'ask', 'bid', 'mean price',\n",
    "       'iv', 'volume', 'open interest', 'stock price for iv', 'delta',\n",
    "       'vega', 'gamma', 'theta', 'rho','date_difference']\n",
    "target = 'call/put'\n",
    "\n",
    "X_train = filtered_train[features]\n",
    "X_test = filtered_test[features]\n",
    "\n",
    "y_train = filtered_train[target]\n",
    "y_test = filtered_test[target]"
   ]
  },
  {
   "cell_type": "code",
   "execution_count": 194,
   "id": "664a99cd",
   "metadata": {},
   "outputs": [],
   "source": [
    "loggistic=LogisticRegression()"
   ]
  },
  {
   "cell_type": "code",
   "execution_count": 195,
   "id": "e1ca80d9",
   "metadata": {},
   "outputs": [
    {
     "name": "stderr",
     "output_type": "stream",
     "text": [
      "C:\\Users\\91951\\anaconda3\\lib\\site-packages\\sklearn\\linear_model\\_logistic.py:460: ConvergenceWarning: lbfgs failed to converge (status=1):\n",
      "STOP: TOTAL NO. of ITERATIONS REACHED LIMIT.\n",
      "\n",
      "Increase the number of iterations (max_iter) or scale the data as shown in:\n",
      "    https://scikit-learn.org/stable/modules/preprocessing.html\n",
      "Please also refer to the documentation for alternative solver options:\n",
      "    https://scikit-learn.org/stable/modules/linear_model.html#logistic-regression\n",
      "  n_iter_i = _check_optimize_result(\n"
     ]
    },
    {
     "data": {
      "text/html": [
       "<style>#sk-container-id-18 {color: black;}#sk-container-id-18 pre{padding: 0;}#sk-container-id-18 div.sk-toggleable {background-color: white;}#sk-container-id-18 label.sk-toggleable__label {cursor: pointer;display: block;width: 100%;margin-bottom: 0;padding: 0.3em;box-sizing: border-box;text-align: center;}#sk-container-id-18 label.sk-toggleable__label-arrow:before {content: \"▸\";float: left;margin-right: 0.25em;color: #696969;}#sk-container-id-18 label.sk-toggleable__label-arrow:hover:before {color: black;}#sk-container-id-18 div.sk-estimator:hover label.sk-toggleable__label-arrow:before {color: black;}#sk-container-id-18 div.sk-toggleable__content {max-height: 0;max-width: 0;overflow: hidden;text-align: left;background-color: #f0f8ff;}#sk-container-id-18 div.sk-toggleable__content pre {margin: 0.2em;color: black;border-radius: 0.25em;background-color: #f0f8ff;}#sk-container-id-18 input.sk-toggleable__control:checked~div.sk-toggleable__content {max-height: 200px;max-width: 100%;overflow: auto;}#sk-container-id-18 input.sk-toggleable__control:checked~label.sk-toggleable__label-arrow:before {content: \"▾\";}#sk-container-id-18 div.sk-estimator input.sk-toggleable__control:checked~label.sk-toggleable__label {background-color: #d4ebff;}#sk-container-id-18 div.sk-label input.sk-toggleable__control:checked~label.sk-toggleable__label {background-color: #d4ebff;}#sk-container-id-18 input.sk-hidden--visually {border: 0;clip: rect(1px 1px 1px 1px);clip: rect(1px, 1px, 1px, 1px);height: 1px;margin: -1px;overflow: hidden;padding: 0;position: absolute;width: 1px;}#sk-container-id-18 div.sk-estimator {font-family: monospace;background-color: #f0f8ff;border: 1px dotted black;border-radius: 0.25em;box-sizing: border-box;margin-bottom: 0.5em;}#sk-container-id-18 div.sk-estimator:hover {background-color: #d4ebff;}#sk-container-id-18 div.sk-parallel-item::after {content: \"\";width: 100%;border-bottom: 1px solid gray;flex-grow: 1;}#sk-container-id-18 div.sk-label:hover label.sk-toggleable__label {background-color: #d4ebff;}#sk-container-id-18 div.sk-serial::before {content: \"\";position: absolute;border-left: 1px solid gray;box-sizing: border-box;top: 0;bottom: 0;left: 50%;z-index: 0;}#sk-container-id-18 div.sk-serial {display: flex;flex-direction: column;align-items: center;background-color: white;padding-right: 0.2em;padding-left: 0.2em;position: relative;}#sk-container-id-18 div.sk-item {position: relative;z-index: 1;}#sk-container-id-18 div.sk-parallel {display: flex;align-items: stretch;justify-content: center;background-color: white;position: relative;}#sk-container-id-18 div.sk-item::before, #sk-container-id-18 div.sk-parallel-item::before {content: \"\";position: absolute;border-left: 1px solid gray;box-sizing: border-box;top: 0;bottom: 0;left: 50%;z-index: -1;}#sk-container-id-18 div.sk-parallel-item {display: flex;flex-direction: column;z-index: 1;position: relative;background-color: white;}#sk-container-id-18 div.sk-parallel-item:first-child::after {align-self: flex-end;width: 50%;}#sk-container-id-18 div.sk-parallel-item:last-child::after {align-self: flex-start;width: 50%;}#sk-container-id-18 div.sk-parallel-item:only-child::after {width: 0;}#sk-container-id-18 div.sk-dashed-wrapped {border: 1px dashed gray;margin: 0 0.4em 0.5em 0.4em;box-sizing: border-box;padding-bottom: 0.4em;background-color: white;}#sk-container-id-18 div.sk-label label {font-family: monospace;font-weight: bold;display: inline-block;line-height: 1.2em;}#sk-container-id-18 div.sk-label-container {text-align: center;}#sk-container-id-18 div.sk-container {/* jupyter's `normalize.less` sets `[hidden] { display: none; }` but bootstrap.min.css set `[hidden] { display: none !important; }` so we also need the `!important` here to be able to override the default hidden behavior on the sphinx rendered scikit-learn.org. See: https://github.com/scikit-learn/scikit-learn/issues/21755 */display: inline-block !important;position: relative;}#sk-container-id-18 div.sk-text-repr-fallback {display: none;}</style><div id=\"sk-container-id-18\" class=\"sk-top-container\"><div class=\"sk-text-repr-fallback\"><pre>LogisticRegression()</pre><b>In a Jupyter environment, please rerun this cell to show the HTML representation or trust the notebook. <br />On GitHub, the HTML representation is unable to render, please try loading this page with nbviewer.org.</b></div><div class=\"sk-container\" hidden><div class=\"sk-item\"><div class=\"sk-estimator sk-toggleable\"><input class=\"sk-toggleable__control sk-hidden--visually\" id=\"sk-estimator-id-18\" type=\"checkbox\" checked><label for=\"sk-estimator-id-18\" class=\"sk-toggleable__label sk-toggleable__label-arrow\">LogisticRegression</label><div class=\"sk-toggleable__content\"><pre>LogisticRegression()</pre></div></div></div></div></div>"
      ],
      "text/plain": [
       "LogisticRegression()"
      ]
     },
     "execution_count": 195,
     "metadata": {},
     "output_type": "execute_result"
    }
   ],
   "source": [
    "loggistic.fit(X_train, y_train)"
   ]
  },
  {
   "cell_type": "code",
   "execution_count": 196,
   "id": "2365cc68",
   "metadata": {},
   "outputs": [],
   "source": [
    "# Make predictions on the test set\n",
    "y_pred = loggistic.predict(X_test)"
   ]
  },
  {
   "cell_type": "code",
   "execution_count": 197,
   "id": "de0f1d01",
   "metadata": {},
   "outputs": [
    {
     "name": "stdout",
     "output_type": "stream",
     "text": [
      "Accuracy: 0.99\n"
     ]
    }
   ],
   "source": [
    "# Calculate the accuracy between the data\n",
    "accuracy = accuracy_score(y_test, y_pred)\n",
    "print(f\"Accuracy: {accuracy:.2f}\")"
   ]
  },
  {
   "cell_type": "code",
   "execution_count": 198,
   "id": "8f576918",
   "metadata": {},
   "outputs": [
    {
     "name": "stdout",
     "output_type": "stream",
     "text": [
      "Classification Report:\n",
      "              precision    recall  f1-score   support\n",
      "\n",
      "       False       0.99      0.99      0.99      5363\n",
      "        True       0.99      0.99      0.99      5363\n",
      "\n",
      "    accuracy                           0.99     10726\n",
      "   macro avg       0.99      0.99      0.99     10726\n",
      "weighted avg       0.99      0.99      0.99     10726\n",
      "\n"
     ]
    }
   ],
   "source": [
    "# Display classification report\n",
    "print(\"Classification Report:\")\n",
    "print(classification_report(y_test, y_pred))"
   ]
  },
  {
   "cell_type": "code",
   "execution_count": 199,
   "id": "fc2253f8",
   "metadata": {},
   "outputs": [
    {
     "name": "stdout",
     "output_type": "stream",
     "text": [
      "Confusion Matrix:\n",
      "[[5317   46]\n",
      " [  46 5317]]\n"
     ]
    }
   ],
   "source": [
    "#Display confusion matrix\n",
    "print(\"Confusion Matrix:\")\n",
    "print(confusion_matrix(y_test, y_pred))"
   ]
  },
  {
   "cell_type": "markdown",
   "id": "1661f215",
   "metadata": {},
   "source": [
    "## pca"
   ]
  },
  {
   "cell_type": "code",
   "execution_count": 200,
   "id": "800cefb9",
   "metadata": {},
   "outputs": [],
   "source": [
    "from sklearn.decomposition import PCA"
   ]
  },
  {
   "cell_type": "code",
   "execution_count": 245,
   "id": "52439a5b",
   "metadata": {},
   "outputs": [],
   "source": [
    "# filtered_data = data[['date','adjusted close', 'strike', 'call/put', 'ask', 'bid', 'mean price',\n",
    "#        'iv', 'volume', 'open interest', 'stock price for iv', 'delta',\n",
    "#        'vega', 'gamma', 'theta', 'rho','date_difference']]"
   ]
  },
  {
   "cell_type": "code",
   "execution_count": 255,
   "id": "4c276c23",
   "metadata": {},
   "outputs": [],
   "source": [
    "# features = ['adjusted close', 'strike', 'ask', 'bid', 'mean price',\n",
    "#        'iv', 'volume', 'open interest', 'stock price for iv', 'delta',\n",
    "#        'vega', 'gamma', 'theta', 'rho','date_difference']\n",
    "# target = 'call/put'"
   ]
  },
  {
   "cell_type": "code",
   "execution_count": 256,
   "id": "a0e5b009",
   "metadata": {},
   "outputs": [],
   "source": [
    "# X = data[features]\n",
    "# Y = data['call/put']"
   ]
  },
  {
   "cell_type": "code",
   "execution_count": 257,
   "id": "ee8e0e80",
   "metadata": {},
   "outputs": [],
   "source": [
    "# Example: Standardize the data\n",
    "# scaler = StandardScaler()\n",
    "# X_scaled = scaler.fit_transform(X)"
   ]
  },
  {
   "cell_type": "code",
   "execution_count": null,
   "id": "d4c07a55",
   "metadata": {},
   "outputs": [],
   "source": [
    "# X_train=X"
   ]
  },
  {
   "cell_type": "code",
   "execution_count": 276,
   "id": "f58a05c6",
   "metadata": {},
   "outputs": [
    {
     "name": "stdout",
     "output_type": "stream",
     "text": [
      "(10726, 14)\n",
      "(210320, 14)\n"
     ]
    }
   ],
   "source": [
    "X_train_standardized_data = scaler.fit_transform(X_train)\n",
    "X_test_standardized_data = scaler.fit_transform(X_test)\n",
    "print(X_test_standardized_data.shape)\n",
    "print(X_train_standardized_data.shape)"
   ]
  },
  {
   "cell_type": "code",
   "execution_count": 286,
   "id": "48dcae3d",
   "metadata": {},
   "outputs": [
    {
     "name": "stdout",
     "output_type": "stream",
     "text": [
      "7\n"
     ]
    }
   ],
   "source": [
    "cumulative_variance_ratio = np.cumsum(pca.explained_variance_ratio_)\n",
    "n_components1 = np.argmax(cumulative_variance_ratio >= 0.90) + 1\n",
    "print(n_components1)"
   ]
  },
  {
   "cell_type": "code",
   "execution_count": 303,
   "id": "0d9fe150",
   "metadata": {},
   "outputs": [],
   "source": [
    "# target_explained_variance_ratio = 0.9  \n",
    "pca = PCA(n_components=7)\n",
    "features_pca = pca.fit_transform(X_train_standardized_data)\n",
    "features_pca_test = pca.fit_transform(X_test_standardized_data)"
   ]
  },
  {
   "cell_type": "code",
   "execution_count": 304,
   "id": "7affb613",
   "metadata": {},
   "outputs": [
    {
     "name": "stdout",
     "output_type": "stream",
     "text": [
      "(210320, 7)\n",
      "(10726, 7)\n"
     ]
    },
    {
     "data": {
      "text/plain": [
       "array([[ 4.02624514, -2.13661345,  1.00093515,  1.89070642,  2.03204816,\n",
       "        -2.11345191, -2.44883663],\n",
       "       [-1.3084883 , -0.88528956, -1.86884888,  1.21950506,  1.51125388,\n",
       "        -1.6154185 , -1.29234856]])"
      ]
     },
     "execution_count": 304,
     "metadata": {},
     "output_type": "execute_result"
    }
   ],
   "source": [
    "print(features_pca.shape)\n",
    "print(features_pca_test.shape)\n",
    "features_pca[:2]\n",
    "features_pca_test[:2]"
   ]
  },
  {
   "cell_type": "code",
   "execution_count": 305,
   "id": "c82a445c",
   "metadata": {},
   "outputs": [
    {
     "data": {
      "text/html": [
       "<style>#sk-container-id-28 {color: black;}#sk-container-id-28 pre{padding: 0;}#sk-container-id-28 div.sk-toggleable {background-color: white;}#sk-container-id-28 label.sk-toggleable__label {cursor: pointer;display: block;width: 100%;margin-bottom: 0;padding: 0.3em;box-sizing: border-box;text-align: center;}#sk-container-id-28 label.sk-toggleable__label-arrow:before {content: \"▸\";float: left;margin-right: 0.25em;color: #696969;}#sk-container-id-28 label.sk-toggleable__label-arrow:hover:before {color: black;}#sk-container-id-28 div.sk-estimator:hover label.sk-toggleable__label-arrow:before {color: black;}#sk-container-id-28 div.sk-toggleable__content {max-height: 0;max-width: 0;overflow: hidden;text-align: left;background-color: #f0f8ff;}#sk-container-id-28 div.sk-toggleable__content pre {margin: 0.2em;color: black;border-radius: 0.25em;background-color: #f0f8ff;}#sk-container-id-28 input.sk-toggleable__control:checked~div.sk-toggleable__content {max-height: 200px;max-width: 100%;overflow: auto;}#sk-container-id-28 input.sk-toggleable__control:checked~label.sk-toggleable__label-arrow:before {content: \"▾\";}#sk-container-id-28 div.sk-estimator input.sk-toggleable__control:checked~label.sk-toggleable__label {background-color: #d4ebff;}#sk-container-id-28 div.sk-label input.sk-toggleable__control:checked~label.sk-toggleable__label {background-color: #d4ebff;}#sk-container-id-28 input.sk-hidden--visually {border: 0;clip: rect(1px 1px 1px 1px);clip: rect(1px, 1px, 1px, 1px);height: 1px;margin: -1px;overflow: hidden;padding: 0;position: absolute;width: 1px;}#sk-container-id-28 div.sk-estimator {font-family: monospace;background-color: #f0f8ff;border: 1px dotted black;border-radius: 0.25em;box-sizing: border-box;margin-bottom: 0.5em;}#sk-container-id-28 div.sk-estimator:hover {background-color: #d4ebff;}#sk-container-id-28 div.sk-parallel-item::after {content: \"\";width: 100%;border-bottom: 1px solid gray;flex-grow: 1;}#sk-container-id-28 div.sk-label:hover label.sk-toggleable__label {background-color: #d4ebff;}#sk-container-id-28 div.sk-serial::before {content: \"\";position: absolute;border-left: 1px solid gray;box-sizing: border-box;top: 0;bottom: 0;left: 50%;z-index: 0;}#sk-container-id-28 div.sk-serial {display: flex;flex-direction: column;align-items: center;background-color: white;padding-right: 0.2em;padding-left: 0.2em;position: relative;}#sk-container-id-28 div.sk-item {position: relative;z-index: 1;}#sk-container-id-28 div.sk-parallel {display: flex;align-items: stretch;justify-content: center;background-color: white;position: relative;}#sk-container-id-28 div.sk-item::before, #sk-container-id-28 div.sk-parallel-item::before {content: \"\";position: absolute;border-left: 1px solid gray;box-sizing: border-box;top: 0;bottom: 0;left: 50%;z-index: -1;}#sk-container-id-28 div.sk-parallel-item {display: flex;flex-direction: column;z-index: 1;position: relative;background-color: white;}#sk-container-id-28 div.sk-parallel-item:first-child::after {align-self: flex-end;width: 50%;}#sk-container-id-28 div.sk-parallel-item:last-child::after {align-self: flex-start;width: 50%;}#sk-container-id-28 div.sk-parallel-item:only-child::after {width: 0;}#sk-container-id-28 div.sk-dashed-wrapped {border: 1px dashed gray;margin: 0 0.4em 0.5em 0.4em;box-sizing: border-box;padding-bottom: 0.4em;background-color: white;}#sk-container-id-28 div.sk-label label {font-family: monospace;font-weight: bold;display: inline-block;line-height: 1.2em;}#sk-container-id-28 div.sk-label-container {text-align: center;}#sk-container-id-28 div.sk-container {/* jupyter's `normalize.less` sets `[hidden] { display: none; }` but bootstrap.min.css set `[hidden] { display: none !important; }` so we also need the `!important` here to be able to override the default hidden behavior on the sphinx rendered scikit-learn.org. See: https://github.com/scikit-learn/scikit-learn/issues/21755 */display: inline-block !important;position: relative;}#sk-container-id-28 div.sk-text-repr-fallback {display: none;}</style><div id=\"sk-container-id-28\" class=\"sk-top-container\"><div class=\"sk-text-repr-fallback\"><pre>LogisticRegression()</pre><b>In a Jupyter environment, please rerun this cell to show the HTML representation or trust the notebook. <br />On GitHub, the HTML representation is unable to render, please try loading this page with nbviewer.org.</b></div><div class=\"sk-container\" hidden><div class=\"sk-item\"><div class=\"sk-estimator sk-toggleable\"><input class=\"sk-toggleable__control sk-hidden--visually\" id=\"sk-estimator-id-28\" type=\"checkbox\" checked><label for=\"sk-estimator-id-28\" class=\"sk-toggleable__label sk-toggleable__label-arrow\">LogisticRegression</label><div class=\"sk-toggleable__content\"><pre>LogisticRegression()</pre></div></div></div></div></div>"
      ],
      "text/plain": [
       "LogisticRegression()"
      ]
     },
     "execution_count": 305,
     "metadata": {},
     "output_type": "execute_result"
    }
   ],
   "source": [
    "# Train Logistic Regression model\n",
    "logreg = LogisticRegression()\n",
    "logreg.fit(features_pca, y_train)"
   ]
  },
  {
   "cell_type": "code",
   "execution_count": 306,
   "id": "88c712ee",
   "metadata": {},
   "outputs": [
    {
     "name": "stdout",
     "output_type": "stream",
     "text": [
      "Accuracy: 0.3098079433153086\n"
     ]
    }
   ],
   "source": [
    "# Make predictions\n",
    "y_pred = logreg.predict(features_pca_test)\n",
    "\n",
    "# Evaluate the model\n",
    "accuracy = accuracy_score(y_test, y_pred)\n",
    "print(f\"Accuracy: {accuracy}\")"
   ]
  },
  {
   "cell_type": "code",
   "execution_count": 307,
   "id": "f740fe11",
   "metadata": {},
   "outputs": [
    {
     "name": "stdout",
     "output_type": "stream",
     "text": [
      "Confusion Matrix:\n",
      "[[2309 3054]\n",
      " [4349 1014]]\n"
     ]
    }
   ],
   "source": [
    "#Display confusion matrix\n",
    "print(\"Confusion Matrix:\")\n",
    "print(confusion_matrix(y_test, y_pred))"
   ]
  },
  {
   "cell_type": "code",
   "execution_count": null,
   "id": "d584981e",
   "metadata": {},
   "outputs": [],
   "source": []
  },
  {
   "cell_type": "code",
   "execution_count": null,
   "id": "ec944045",
   "metadata": {},
   "outputs": [],
   "source": []
  },
  {
   "cell_type": "code",
   "execution_count": null,
   "id": "5d1f9331",
   "metadata": {},
   "outputs": [],
   "source": []
  },
  {
   "cell_type": "markdown",
   "id": "5f41387a",
   "metadata": {},
   "source": [
    "## different method"
   ]
  },
  {
   "cell_type": "code",
   "execution_count": 230,
   "id": "e96aed01",
   "metadata": {},
   "outputs": [],
   "source": [
    "# Separate features and target\n",
    "features = data.drop('call/put', axis=1)\n",
    "target = data['call/put']"
   ]
  },
  {
   "cell_type": "code",
   "execution_count": 231,
   "id": "c3858df3",
   "metadata": {},
   "outputs": [],
   "source": [
    "# Exclude non-numeric columns\n",
    "numeric_features = features.select_dtypes(include=['float64', 'int64'])"
   ]
  },
  {
   "cell_type": "code",
   "execution_count": 232,
   "id": "8f1ff173",
   "metadata": {},
   "outputs": [],
   "source": [
    "# Standardize the data\n",
    "scaler = StandardScaler()\n",
    "features_standardized = scaler.fit_transform(numeric_features)"
   ]
  },
  {
   "cell_type": "code",
   "execution_count": 237,
   "id": "12956f57",
   "metadata": {},
   "outputs": [],
   "source": [
    "# Apply PCA with a target explained variance ratio\n",
    "target_explained_variance_ratio = 0.9  \n",
    "pca = PCA(n_components=target_explained_variance_ratio)\n",
    "features_pca = pca.fit_transform(features_standardized)"
   ]
  },
  {
   "cell_type": "code",
   "execution_count": 238,
   "id": "1935fca9",
   "metadata": {},
   "outputs": [
    {
     "name": "stdout",
     "output_type": "stream",
     "text": [
      "Number of components selected to retain 90.0% variance: 8\n"
     ]
    }
   ],
   "source": [
    "# Print the number of components selected\n",
    "print(f\"Number of components selected to retain {target_explained_variance_ratio * 100}% variance: {pca.n_components_}\")"
   ]
  },
  {
   "cell_type": "code",
   "execution_count": 239,
   "id": "a2e21f9a",
   "metadata": {},
   "outputs": [],
   "source": [
    "# Split the data into training and testing sets\n",
    "X_train, X_test, y_train, y_test = train_test_split(features_pca, target, test_size=0.2, random_state=42)"
   ]
  },
  {
   "cell_type": "code",
   "execution_count": 240,
   "id": "13fa1cce",
   "metadata": {},
   "outputs": [
    {
     "data": {
      "text/html": [
       "<style>#sk-container-id-22 {color: black;}#sk-container-id-22 pre{padding: 0;}#sk-container-id-22 div.sk-toggleable {background-color: white;}#sk-container-id-22 label.sk-toggleable__label {cursor: pointer;display: block;width: 100%;margin-bottom: 0;padding: 0.3em;box-sizing: border-box;text-align: center;}#sk-container-id-22 label.sk-toggleable__label-arrow:before {content: \"▸\";float: left;margin-right: 0.25em;color: #696969;}#sk-container-id-22 label.sk-toggleable__label-arrow:hover:before {color: black;}#sk-container-id-22 div.sk-estimator:hover label.sk-toggleable__label-arrow:before {color: black;}#sk-container-id-22 div.sk-toggleable__content {max-height: 0;max-width: 0;overflow: hidden;text-align: left;background-color: #f0f8ff;}#sk-container-id-22 div.sk-toggleable__content pre {margin: 0.2em;color: black;border-radius: 0.25em;background-color: #f0f8ff;}#sk-container-id-22 input.sk-toggleable__control:checked~div.sk-toggleable__content {max-height: 200px;max-width: 100%;overflow: auto;}#sk-container-id-22 input.sk-toggleable__control:checked~label.sk-toggleable__label-arrow:before {content: \"▾\";}#sk-container-id-22 div.sk-estimator input.sk-toggleable__control:checked~label.sk-toggleable__label {background-color: #d4ebff;}#sk-container-id-22 div.sk-label input.sk-toggleable__control:checked~label.sk-toggleable__label {background-color: #d4ebff;}#sk-container-id-22 input.sk-hidden--visually {border: 0;clip: rect(1px 1px 1px 1px);clip: rect(1px, 1px, 1px, 1px);height: 1px;margin: -1px;overflow: hidden;padding: 0;position: absolute;width: 1px;}#sk-container-id-22 div.sk-estimator {font-family: monospace;background-color: #f0f8ff;border: 1px dotted black;border-radius: 0.25em;box-sizing: border-box;margin-bottom: 0.5em;}#sk-container-id-22 div.sk-estimator:hover {background-color: #d4ebff;}#sk-container-id-22 div.sk-parallel-item::after {content: \"\";width: 100%;border-bottom: 1px solid gray;flex-grow: 1;}#sk-container-id-22 div.sk-label:hover label.sk-toggleable__label {background-color: #d4ebff;}#sk-container-id-22 div.sk-serial::before {content: \"\";position: absolute;border-left: 1px solid gray;box-sizing: border-box;top: 0;bottom: 0;left: 50%;z-index: 0;}#sk-container-id-22 div.sk-serial {display: flex;flex-direction: column;align-items: center;background-color: white;padding-right: 0.2em;padding-left: 0.2em;position: relative;}#sk-container-id-22 div.sk-item {position: relative;z-index: 1;}#sk-container-id-22 div.sk-parallel {display: flex;align-items: stretch;justify-content: center;background-color: white;position: relative;}#sk-container-id-22 div.sk-item::before, #sk-container-id-22 div.sk-parallel-item::before {content: \"\";position: absolute;border-left: 1px solid gray;box-sizing: border-box;top: 0;bottom: 0;left: 50%;z-index: -1;}#sk-container-id-22 div.sk-parallel-item {display: flex;flex-direction: column;z-index: 1;position: relative;background-color: white;}#sk-container-id-22 div.sk-parallel-item:first-child::after {align-self: flex-end;width: 50%;}#sk-container-id-22 div.sk-parallel-item:last-child::after {align-self: flex-start;width: 50%;}#sk-container-id-22 div.sk-parallel-item:only-child::after {width: 0;}#sk-container-id-22 div.sk-dashed-wrapped {border: 1px dashed gray;margin: 0 0.4em 0.5em 0.4em;box-sizing: border-box;padding-bottom: 0.4em;background-color: white;}#sk-container-id-22 div.sk-label label {font-family: monospace;font-weight: bold;display: inline-block;line-height: 1.2em;}#sk-container-id-22 div.sk-label-container {text-align: center;}#sk-container-id-22 div.sk-container {/* jupyter's `normalize.less` sets `[hidden] { display: none; }` but bootstrap.min.css set `[hidden] { display: none !important; }` so we also need the `!important` here to be able to override the default hidden behavior on the sphinx rendered scikit-learn.org. See: https://github.com/scikit-learn/scikit-learn/issues/21755 */display: inline-block !important;position: relative;}#sk-container-id-22 div.sk-text-repr-fallback {display: none;}</style><div id=\"sk-container-id-22\" class=\"sk-top-container\"><div class=\"sk-text-repr-fallback\"><pre>LogisticRegression()</pre><b>In a Jupyter environment, please rerun this cell to show the HTML representation or trust the notebook. <br />On GitHub, the HTML representation is unable to render, please try loading this page with nbviewer.org.</b></div><div class=\"sk-container\" hidden><div class=\"sk-item\"><div class=\"sk-estimator sk-toggleable\"><input class=\"sk-toggleable__control sk-hidden--visually\" id=\"sk-estimator-id-22\" type=\"checkbox\" checked><label for=\"sk-estimator-id-22\" class=\"sk-toggleable__label sk-toggleable__label-arrow\">LogisticRegression</label><div class=\"sk-toggleable__content\"><pre>LogisticRegression()</pre></div></div></div></div></div>"
      ],
      "text/plain": [
       "LogisticRegression()"
      ]
     },
     "execution_count": 240,
     "metadata": {},
     "output_type": "execute_result"
    }
   ],
   "source": [
    "# Train Logistic Regression model\n",
    "logreg = LogisticRegression()\n",
    "logreg.fit(X_train, y_train)"
   ]
  },
  {
   "cell_type": "code",
   "execution_count": 241,
   "id": "b3485379",
   "metadata": {},
   "outputs": [
    {
     "name": "stdout",
     "output_type": "stream",
     "text": [
      "Accuracy: 0.9855914951368469\n"
     ]
    }
   ],
   "source": [
    "# Make predictions\n",
    "y_pred = logreg.predict(X_test)\n",
    "\n",
    "# Evaluate the model\n",
    "accuracy = accuracy_score(y_test, y_pred)\n",
    "print(f\"Accuracy: {accuracy}\")"
   ]
  },
  {
   "cell_type": "code",
   "execution_count": null,
   "id": "486b98a3",
   "metadata": {},
   "outputs": [],
   "source": []
  },
  {
   "cell_type": "code",
   "execution_count": null,
   "id": "2064106c",
   "metadata": {},
   "outputs": [],
   "source": []
  },
  {
   "cell_type": "markdown",
   "id": "7642531b",
   "metadata": {},
   "source": [
    "## new begining for pca "
   ]
  },
  {
   "cell_type": "code",
   "execution_count": null,
   "id": "7b3648f2",
   "metadata": {},
   "outputs": [],
   "source": []
  },
  {
   "cell_type": "code",
   "execution_count": null,
   "id": "cec5b628",
   "metadata": {},
   "outputs": [],
   "source": []
  }
 ],
 "metadata": {
  "kernelspec": {
   "display_name": "Python 3 (ipykernel)",
   "language": "python",
   "name": "python3"
  },
  "language_info": {
   "codemirror_mode": {
    "name": "ipython",
    "version": 3
   },
   "file_extension": ".py",
   "mimetype": "text/x-python",
   "name": "python",
   "nbconvert_exporter": "python",
   "pygments_lexer": "ipython3",
   "version": "3.8.18"
  }
 },
 "nbformat": 4,
 "nbformat_minor": 5
}
