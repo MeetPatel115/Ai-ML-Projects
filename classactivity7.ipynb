{
 "cells": [
  {
   "cell_type": "code",
   "execution_count": 6,
   "id": "49b7f546",
   "metadata": {},
   "outputs": [],
   "source": [
    "def lengr(string):\n",
    "    a=len(string)\n",
    "    return a"
   ]
  },
  {
   "cell_type": "code",
   "execution_count": 7,
   "id": "00bc6897",
   "metadata": {},
   "outputs": [
    {
     "name": "stdout",
     "output_type": "stream",
     "text": [
      "Enter the Strings: meet\n",
      "4\n"
     ]
    }
   ],
   "source": [
    "x= input(\"Enter the Strings: \")\n",
    "length=lengr(x)\n",
    "print(length)"
   ]
  },
  {
   "cell_type": "code",
   "execution_count": 9,
   "id": "190ba54b",
   "metadata": {},
   "outputs": [
    {
     "data": {
      "text/plain": [
       "{'e': 4, 'n': 2, 't': 2, 'r': 1, ' ': 3, 'h': 1, 'a': 1, 'm': 1}"
      ]
     },
     "execution_count": 9,
     "metadata": {},
     "output_type": "execute_result"
    }
   ],
   "source": [
    "def funct(st):\n",
    "    dicts={}\n",
    "    for i in st:\n",
    "        if i in dicts.keys():\n",
    "            dicts[i]+=1\n",
    "        else:\n",
    "            dicts[i]=1\n",
    "    return dicts\n",
    "\n",
    "funct(\"enter the name \")"
   ]
  },
  {
   "cell_type": "code",
   "execution_count": 32,
   "id": "66514803",
   "metadata": {},
   "outputs": [
    {
     "name": "stdout",
     "output_type": "stream",
     "text": [
      "True\n",
      "Enter the value in the name\n",
      "19\n",
      "   enter the value in the name\n",
      "   ENTER THE VALUE IN THE NAME\n",
      "   Enter The Value In The Name\n",
      "5\n",
      "   Enter the customer in the name\n"
     ]
    }
   ],
   "source": [
    "Str=\"   Enter the value in the name\"\n",
    "print(Str.endswith('name'))\n",
    "print(Str.strip())\n",
    "print(Str.find('in'))\n",
    "print(Str.lower())\n",
    "print(Str.upper())\n",
    "print(Str.title())\n",
    "print(Str.count('e'))\n",
    "print(Str.replace('value','customer'))"
   ]
  },
  {
   "cell_type": "code",
   "execution_count": 38,
   "id": "ac1b8787",
   "metadata": {},
   "outputs": [
    {
     "name": "stdout",
     "output_type": "stream",
     "text": [
      "Enter the temperature in faranite: 65\n",
      "The given temprature in celcius:  18.333333333333332\n"
     ]
    }
   ],
   "source": [
    "def temp(far):\n",
    "    celcius=(far-32)*5/9\n",
    "    return celcius\n",
    "\n",
    "i=int(input(\"Enter the temperature in faranite: \"))\n",
    "c=temp(i)\n",
    "print(\"The given temprature in celcius: \",c)"
   ]
  },
  {
   "cell_type": "code",
   "execution_count": null,
   "id": "126975f8",
   "metadata": {},
   "outputs": [],
   "source": []
  }
 ],
 "metadata": {
  "kernelspec": {
   "display_name": "Python 3 (ipykernel)",
   "language": "python",
   "name": "python3"
  },
  "language_info": {
   "codemirror_mode": {
    "name": "ipython",
    "version": 3
   },
   "file_extension": ".py",
   "mimetype": "text/x-python",
   "name": "python",
   "nbconvert_exporter": "python",
   "pygments_lexer": "ipython3",
   "version": "3.8.18"
  }
 },
 "nbformat": 4,
 "nbformat_minor": 5
}
